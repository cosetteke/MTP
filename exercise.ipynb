{
 "cells": [
  {
   "cell_type": "code",
   "execution_count": 39,
   "metadata": {},
   "outputs": [],
   "source": [
    "from sklearn import svm\n",
    "from sklearn.svm import SVC\n",
    "import numpy as np \n",
    "from sklearn.model_selection import train_test_split, KFold, cross_validate, GridSearchCV, cross_val_predict\n",
    "from sklearn.multiclass import OneVsRestClassifier\n",
    "from sklearn.ensemble import RandomForestClassifier\n",
    "from sklearn.preprocessing import LabelBinarizer\n",
    "from sklearn.preprocessing import MultiLabelBinarizer\n",
    "from sklearn import metrics\n",
    "from sklearn.svm import LinearSVC\n",
    "from sklearn.datasets import load_svmlight_file\n",
    "from sklearn.model_selection import cross_val_score\n",
    "from sklearn.metrics import roc_auc_score, average_precision_score\n",
    "from sklearn.metrics import make_scorer\n",
    "import numpy as np\n",
    "from scipy import interp\n",
    "import matplotlib.pyplot as plt\n",
    "from itertools import cycle\n",
    "\n",
    "from sklearn import svm, datasets\n",
    "from sklearn.metrics import roc_curve, auc\n",
    "from sklearn.model_selection import StratifiedKFold"
   ]
  },
  {
   "cell_type": "code",
   "execution_count": 2,
   "metadata": {},
   "outputs": [],
   "source": [
    "# read the data\n",
    "drug1 = np.loadtxt('/Users/mac/OneDrive/thesis/script/dataset/DPI_enzyme/drug_feature.txt')\n",
    "interaction1 = np.loadtxt('/Users/mac/OneDrive/thesis/script/dataset/DPI_enzyme/dpie_Y.txt')"
   ]
  },
  {
   "cell_type": "code",
   "execution_count": null,
   "metadata": {},
   "outputs": [
    {
     "name": "stderr",
     "output_type": "stream",
     "text": [
      "/Users/mac/Library/Python/3.8/lib/python/site-packages/sklearn/multiclass.py:74: UserWarning: Label not 16 is present in all training examples.\n",
      "  warnings.warn(\"Label %s is present in all training examples.\" %\n",
      "/Users/mac/Library/Python/3.8/lib/python/site-packages/sklearn/multiclass.py:74: UserWarning: Label not 47 is present in all training examples.\n",
      "  warnings.warn(\"Label %s is present in all training examples.\" %\n",
      "/Users/mac/Library/Python/3.8/lib/python/site-packages/sklearn/multiclass.py:74: UserWarning: Label not 196 is present in all training examples.\n",
      "  warnings.warn(\"Label %s is present in all training examples.\" %\n",
      "/Users/mac/Library/Python/3.8/lib/python/site-packages/sklearn/multiclass.py:74: UserWarning: Label not 198 is present in all training examples.\n",
      "  warnings.warn(\"Label %s is present in all training examples.\" %\n",
      "/Users/mac/Library/Python/3.8/lib/python/site-packages/sklearn/multiclass.py:74: UserWarning: Label not 21 is present in all training examples.\n",
      "  warnings.warn(\"Label %s is present in all training examples.\" %\n",
      "/Users/mac/Library/Python/3.8/lib/python/site-packages/sklearn/multiclass.py:74: UserWarning: Label not 35 is present in all training examples.\n",
      "  warnings.warn(\"Label %s is present in all training examples.\" %\n",
      "/Users/mac/Library/Python/3.8/lib/python/site-packages/sklearn/multiclass.py:74: UserWarning: Label not 42 is present in all training examples.\n",
      "  warnings.warn(\"Label %s is present in all training examples.\" %\n",
      "/Users/mac/Library/Python/3.8/lib/python/site-packages/sklearn/multiclass.py:74: UserWarning: Label not 43 is present in all training examples.\n",
      "  warnings.warn(\"Label %s is present in all training examples.\" %\n",
      "/Users/mac/Library/Python/3.8/lib/python/site-packages/sklearn/multiclass.py:74: UserWarning: Label not 46 is present in all training examples.\n",
      "  warnings.warn(\"Label %s is present in all training examples.\" %\n",
      "/Users/mac/Library/Python/3.8/lib/python/site-packages/sklearn/multiclass.py:74: UserWarning: Label not 56 is present in all training examples.\n",
      "  warnings.warn(\"Label %s is present in all training examples.\" %\n",
      "/Users/mac/Library/Python/3.8/lib/python/site-packages/sklearn/multiclass.py:74: UserWarning: Label not 57 is present in all training examples.\n",
      "  warnings.warn(\"Label %s is present in all training examples.\" %\n",
      "/Users/mac/Library/Python/3.8/lib/python/site-packages/sklearn/multiclass.py:74: UserWarning: Label not 59 is present in all training examples.\n",
      "  warnings.warn(\"Label %s is present in all training examples.\" %\n",
      "/Users/mac/Library/Python/3.8/lib/python/site-packages/sklearn/multiclass.py:74: UserWarning: Label not 71 is present in all training examples.\n",
      "  warnings.warn(\"Label %s is present in all training examples.\" %\n",
      "/Users/mac/Library/Python/3.8/lib/python/site-packages/sklearn/multiclass.py:74: UserWarning: Label not 72 is present in all training examples.\n",
      "  warnings.warn(\"Label %s is present in all training examples.\" %\n",
      "/Users/mac/Library/Python/3.8/lib/python/site-packages/sklearn/multiclass.py:74: UserWarning: Label not 73 is present in all training examples.\n",
      "  warnings.warn(\"Label %s is present in all training examples.\" %\n",
      "/Users/mac/Library/Python/3.8/lib/python/site-packages/sklearn/multiclass.py:74: UserWarning: Label not 75 is present in all training examples.\n",
      "  warnings.warn(\"Label %s is present in all training examples.\" %\n",
      "/Users/mac/Library/Python/3.8/lib/python/site-packages/sklearn/multiclass.py:74: UserWarning: Label not 78 is present in all training examples.\n",
      "  warnings.warn(\"Label %s is present in all training examples.\" %\n",
      "/Users/mac/Library/Python/3.8/lib/python/site-packages/sklearn/multiclass.py:74: UserWarning: Label not 82 is present in all training examples.\n",
      "  warnings.warn(\"Label %s is present in all training examples.\" %\n",
      "/Users/mac/Library/Python/3.8/lib/python/site-packages/sklearn/multiclass.py:74: UserWarning: Label not 85 is present in all training examples.\n",
      "  warnings.warn(\"Label %s is present in all training examples.\" %\n",
      "/Users/mac/Library/Python/3.8/lib/python/site-packages/sklearn/multiclass.py:74: UserWarning: Label not 95 is present in all training examples.\n",
      "  warnings.warn(\"Label %s is present in all training examples.\" %\n",
      "/Users/mac/Library/Python/3.8/lib/python/site-packages/sklearn/multiclass.py:74: UserWarning: Label not 96 is present in all training examples.\n",
      "  warnings.warn(\"Label %s is present in all training examples.\" %\n",
      "/Users/mac/Library/Python/3.8/lib/python/site-packages/sklearn/multiclass.py:74: UserWarning: Label not 101 is present in all training examples.\n",
      "  warnings.warn(\"Label %s is present in all training examples.\" %\n",
      "/Users/mac/Library/Python/3.8/lib/python/site-packages/sklearn/multiclass.py:74: UserWarning: Label not 102 is present in all training examples.\n",
      "  warnings.warn(\"Label %s is present in all training examples.\" %\n",
      "/Users/mac/Library/Python/3.8/lib/python/site-packages/sklearn/multiclass.py:74: UserWarning: Label not 109 is present in all training examples.\n",
      "  warnings.warn(\"Label %s is present in all training examples.\" %\n",
      "/Users/mac/Library/Python/3.8/lib/python/site-packages/sklearn/multiclass.py:74: UserWarning: Label not 112 is present in all training examples.\n",
      "  warnings.warn(\"Label %s is present in all training examples.\" %\n",
      "/Users/mac/Library/Python/3.8/lib/python/site-packages/sklearn/multiclass.py:74: UserWarning: Label not 121 is present in all training examples.\n",
      "  warnings.warn(\"Label %s is present in all training examples.\" %\n",
      "/Users/mac/Library/Python/3.8/lib/python/site-packages/sklearn/multiclass.py:74: UserWarning: Label not 123 is present in all training examples.\n",
      "  warnings.warn(\"Label %s is present in all training examples.\" %\n",
      "/Users/mac/Library/Python/3.8/lib/python/site-packages/sklearn/multiclass.py:74: UserWarning: Label not 127 is present in all training examples.\n",
      "  warnings.warn(\"Label %s is present in all training examples.\" %\n",
      "/Users/mac/Library/Python/3.8/lib/python/site-packages/sklearn/multiclass.py:74: UserWarning: Label not 131 is present in all training examples.\n",
      "  warnings.warn(\"Label %s is present in all training examples.\" %\n",
      "/Users/mac/Library/Python/3.8/lib/python/site-packages/sklearn/multiclass.py:74: UserWarning: Label not 134 is present in all training examples.\n",
      "  warnings.warn(\"Label %s is present in all training examples.\" %\n",
      "/Users/mac/Library/Python/3.8/lib/python/site-packages/sklearn/multiclass.py:74: UserWarning: Label not 140 is present in all training examples.\n",
      "  warnings.warn(\"Label %s is present in all training examples.\" %\n",
      "/Users/mac/Library/Python/3.8/lib/python/site-packages/sklearn/multiclass.py:74: UserWarning: Label not 143 is present in all training examples.\n",
      "  warnings.warn(\"Label %s is present in all training examples.\" %\n",
      "/Users/mac/Library/Python/3.8/lib/python/site-packages/sklearn/multiclass.py:74: UserWarning: Label not 144 is present in all training examples.\n",
      "  warnings.warn(\"Label %s is present in all training examples.\" %\n",
      "/Users/mac/Library/Python/3.8/lib/python/site-packages/sklearn/multiclass.py:74: UserWarning: Label not 145 is present in all training examples.\n",
      "  warnings.warn(\"Label %s is present in all training examples.\" %\n",
      "/Users/mac/Library/Python/3.8/lib/python/site-packages/sklearn/multiclass.py:74: UserWarning: Label not 155 is present in all training examples.\n",
      "  warnings.warn(\"Label %s is present in all training examples.\" %\n",
      "/Users/mac/Library/Python/3.8/lib/python/site-packages/sklearn/multiclass.py:74: UserWarning: Label not 158 is present in all training examples.\n",
      "  warnings.warn(\"Label %s is present in all training examples.\" %\n",
      "/Users/mac/Library/Python/3.8/lib/python/site-packages/sklearn/multiclass.py:74: UserWarning: Label not 162 is present in all training examples.\n",
      "  warnings.warn(\"Label %s is present in all training examples.\" %\n",
      "/Users/mac/Library/Python/3.8/lib/python/site-packages/sklearn/multiclass.py:74: UserWarning: Label not 167 is present in all training examples.\n",
      "  warnings.warn(\"Label %s is present in all training examples.\" %\n",
      "/Users/mac/Library/Python/3.8/lib/python/site-packages/sklearn/multiclass.py:74: UserWarning: Label not 168 is present in all training examples.\n",
      "  warnings.warn(\"Label %s is present in all training examples.\" %\n",
      "/Users/mac/Library/Python/3.8/lib/python/site-packages/sklearn/multiclass.py:74: UserWarning: Label not 169 is present in all training examples.\n",
      "  warnings.warn(\"Label %s is present in all training examples.\" %\n",
      "/Users/mac/Library/Python/3.8/lib/python/site-packages/sklearn/multiclass.py:74: UserWarning: Label not 170 is present in all training examples.\n",
      "  warnings.warn(\"Label %s is present in all training examples.\" %\n",
      "/Users/mac/Library/Python/3.8/lib/python/site-packages/sklearn/multiclass.py:74: UserWarning: Label not 171 is present in all training examples.\n",
      "  warnings.warn(\"Label %s is present in all training examples.\" %\n",
      "/Users/mac/Library/Python/3.8/lib/python/site-packages/sklearn/multiclass.py:74: UserWarning: Label not 172 is present in all training examples.\n",
      "  warnings.warn(\"Label %s is present in all training examples.\" %\n",
      "/Users/mac/Library/Python/3.8/lib/python/site-packages/sklearn/multiclass.py:74: UserWarning: Label not 173 is present in all training examples.\n",
      "  warnings.warn(\"Label %s is present in all training examples.\" %\n"
     ]
    },
    {
     "name": "stderr",
     "output_type": "stream",
     "text": [
      "/Users/mac/Library/Python/3.8/lib/python/site-packages/sklearn/multiclass.py:74: UserWarning: Label not 191 is present in all training examples.\n",
      "  warnings.warn(\"Label %s is present in all training examples.\" %\n",
      "/Users/mac/Library/Python/3.8/lib/python/site-packages/sklearn/multiclass.py:74: UserWarning: Label not 195 is present in all training examples.\n",
      "  warnings.warn(\"Label %s is present in all training examples.\" %\n",
      "/Users/mac/Library/Python/3.8/lib/python/site-packages/sklearn/multiclass.py:74: UserWarning: Label not 205 is present in all training examples.\n",
      "  warnings.warn(\"Label %s is present in all training examples.\" %\n",
      "/Users/mac/Library/Python/3.8/lib/python/site-packages/sklearn/multiclass.py:74: UserWarning: Label not 218 is present in all training examples.\n",
      "  warnings.warn(\"Label %s is present in all training examples.\" %\n",
      "/Users/mac/Library/Python/3.8/lib/python/site-packages/sklearn/multiclass.py:74: UserWarning: Label not 231 is present in all training examples.\n",
      "  warnings.warn(\"Label %s is present in all training examples.\" %\n",
      "/Users/mac/Library/Python/3.8/lib/python/site-packages/sklearn/multiclass.py:74: UserWarning: Label not 235 is present in all training examples.\n",
      "  warnings.warn(\"Label %s is present in all training examples.\" %\n",
      "/Users/mac/Library/Python/3.8/lib/python/site-packages/sklearn/multiclass.py:74: UserWarning: Label not 239 is present in all training examples.\n",
      "  warnings.warn(\"Label %s is present in all training examples.\" %\n",
      "/Users/mac/Library/Python/3.8/lib/python/site-packages/sklearn/multiclass.py:74: UserWarning: Label not 265 is present in all training examples.\n",
      "  warnings.warn(\"Label %s is present in all training examples.\" %\n",
      "/Users/mac/Library/Python/3.8/lib/python/site-packages/sklearn/multiclass.py:74: UserWarning: Label not 270 is present in all training examples.\n",
      "  warnings.warn(\"Label %s is present in all training examples.\" %\n",
      "/Users/mac/Library/Python/3.8/lib/python/site-packages/sklearn/multiclass.py:74: UserWarning: Label not 291 is present in all training examples.\n",
      "  warnings.warn(\"Label %s is present in all training examples.\" %\n",
      "/Users/mac/Library/Python/3.8/lib/python/site-packages/sklearn/multiclass.py:74: UserWarning: Label not 298 is present in all training examples.\n",
      "  warnings.warn(\"Label %s is present in all training examples.\" %\n",
      "/Users/mac/Library/Python/3.8/lib/python/site-packages/sklearn/multiclass.py:74: UserWarning: Label not 308 is present in all training examples.\n",
      "  warnings.warn(\"Label %s is present in all training examples.\" %\n",
      "/Users/mac/Library/Python/3.8/lib/python/site-packages/sklearn/multiclass.py:74: UserWarning: Label not 314 is present in all training examples.\n",
      "  warnings.warn(\"Label %s is present in all training examples.\" %\n",
      "/Users/mac/Library/Python/3.8/lib/python/site-packages/sklearn/multiclass.py:74: UserWarning: Label not 330 is present in all training examples.\n",
      "  warnings.warn(\"Label %s is present in all training examples.\" %\n",
      "/Users/mac/Library/Python/3.8/lib/python/site-packages/sklearn/multiclass.py:74: UserWarning: Label not 339 is present in all training examples.\n",
      "  warnings.warn(\"Label %s is present in all training examples.\" %\n",
      "/Users/mac/Library/Python/3.8/lib/python/site-packages/sklearn/multiclass.py:74: UserWarning: Label not 340 is present in all training examples.\n",
      "  warnings.warn(\"Label %s is present in all training examples.\" %\n",
      "/Users/mac/Library/Python/3.8/lib/python/site-packages/sklearn/multiclass.py:74: UserWarning: Label not 353 is present in all training examples.\n",
      "  warnings.warn(\"Label %s is present in all training examples.\" %\n",
      "/Users/mac/Library/Python/3.8/lib/python/site-packages/sklearn/multiclass.py:74: UserWarning: Label not 364 is present in all training examples.\n",
      "  warnings.warn(\"Label %s is present in all training examples.\" %\n",
      "/Users/mac/Library/Python/3.8/lib/python/site-packages/sklearn/multiclass.py:74: UserWarning: Label not 374 is present in all training examples.\n",
      "  warnings.warn(\"Label %s is present in all training examples.\" %\n",
      "/Users/mac/Library/Python/3.8/lib/python/site-packages/sklearn/multiclass.py:74: UserWarning: Label not 397 is present in all training examples.\n",
      "  warnings.warn(\"Label %s is present in all training examples.\" %\n",
      "/Users/mac/Library/Python/3.8/lib/python/site-packages/sklearn/multiclass.py:74: UserWarning: Label not 398 is present in all training examples.\n",
      "  warnings.warn(\"Label %s is present in all training examples.\" %\n",
      "/Users/mac/Library/Python/3.8/lib/python/site-packages/sklearn/multiclass.py:74: UserWarning: Label not 399 is present in all training examples.\n",
      "  warnings.warn(\"Label %s is present in all training examples.\" %\n",
      "/Users/mac/Library/Python/3.8/lib/python/site-packages/sklearn/multiclass.py:74: UserWarning: Label not 400 is present in all training examples.\n",
      "  warnings.warn(\"Label %s is present in all training examples.\" %\n",
      "/Users/mac/Library/Python/3.8/lib/python/site-packages/sklearn/multiclass.py:74: UserWarning: Label not 401 is present in all training examples.\n",
      "  warnings.warn(\"Label %s is present in all training examples.\" %\n",
      "/Users/mac/Library/Python/3.8/lib/python/site-packages/sklearn/multiclass.py:74: UserWarning: Label not 402 is present in all training examples.\n",
      "  warnings.warn(\"Label %s is present in all training examples.\" %\n",
      "/Users/mac/Library/Python/3.8/lib/python/site-packages/sklearn/multiclass.py:74: UserWarning: Label not 403 is present in all training examples.\n",
      "  warnings.warn(\"Label %s is present in all training examples.\" %\n",
      "/Users/mac/Library/Python/3.8/lib/python/site-packages/sklearn/multiclass.py:74: UserWarning: Label not 404 is present in all training examples.\n",
      "  warnings.warn(\"Label %s is present in all training examples.\" %\n",
      "/Users/mac/Library/Python/3.8/lib/python/site-packages/sklearn/multiclass.py:74: UserWarning: Label not 405 is present in all training examples.\n",
      "  warnings.warn(\"Label %s is present in all training examples.\" %\n",
      "/Users/mac/Library/Python/3.8/lib/python/site-packages/sklearn/multiclass.py:74: UserWarning: Label not 406 is present in all training examples.\n",
      "  warnings.warn(\"Label %s is present in all training examples.\" %\n",
      "/Users/mac/Library/Python/3.8/lib/python/site-packages/sklearn/multiclass.py:74: UserWarning: Label not 407 is present in all training examples.\n",
      "  warnings.warn(\"Label %s is present in all training examples.\" %\n",
      "/Users/mac/Library/Python/3.8/lib/python/site-packages/sklearn/multiclass.py:74: UserWarning: Label not 408 is present in all training examples.\n",
      "  warnings.warn(\"Label %s is present in all training examples.\" %\n",
      "/Users/mac/Library/Python/3.8/lib/python/site-packages/sklearn/multiclass.py:74: UserWarning: Label not 409 is present in all training examples.\n",
      "  warnings.warn(\"Label %s is present in all training examples.\" %\n",
      "/Users/mac/Library/Python/3.8/lib/python/site-packages/sklearn/multiclass.py:74: UserWarning: Label not 413 is present in all training examples.\n",
      "  warnings.warn(\"Label %s is present in all training examples.\" %\n",
      "/Users/mac/Library/Python/3.8/lib/python/site-packages/sklearn/multiclass.py:74: UserWarning: Label not 444 is present in all training examples.\n",
      "  warnings.warn(\"Label %s is present in all training examples.\" %\n",
      "/Users/mac/Library/Python/3.8/lib/python/site-packages/sklearn/multiclass.py:74: UserWarning: Label not 97 is present in all training examples.\n",
      "  warnings.warn(\"Label %s is present in all training examples.\" %\n",
      "/Users/mac/Library/Python/3.8/lib/python/site-packages/sklearn/multiclass.py:74: UserWarning: Label not 119 is present in all training examples.\n",
      "  warnings.warn(\"Label %s is present in all training examples.\" %\n",
      "/Users/mac/Library/Python/3.8/lib/python/site-packages/sklearn/multiclass.py:74: UserWarning: Label not 128 is present in all training examples.\n",
      "  warnings.warn(\"Label %s is present in all training examples.\" %\n",
      "/Users/mac/Library/Python/3.8/lib/python/site-packages/sklearn/multiclass.py:74: UserWarning: Label not 135 is present in all training examples.\n",
      "  warnings.warn(\"Label %s is present in all training examples.\" %\n",
      "/Users/mac/Library/Python/3.8/lib/python/site-packages/sklearn/multiclass.py:74: UserWarning: Label not 156 is present in all training examples.\n",
      "  warnings.warn(\"Label %s is present in all training examples.\" %\n"
     ]
    },
    {
     "name": "stderr",
     "output_type": "stream",
     "text": [
      "/Users/mac/Library/Python/3.8/lib/python/site-packages/sklearn/multiclass.py:74: UserWarning: Label not 193 is present in all training examples.\n",
      "  warnings.warn(\"Label %s is present in all training examples.\" %\n",
      "/Users/mac/Library/Python/3.8/lib/python/site-packages/sklearn/multiclass.py:74: UserWarning: Label not 271 is present in all training examples.\n",
      "  warnings.warn(\"Label %s is present in all training examples.\" %\n",
      "/Users/mac/Library/Python/3.8/lib/python/site-packages/sklearn/multiclass.py:74: UserWarning: Label not 276 is present in all training examples.\n",
      "  warnings.warn(\"Label %s is present in all training examples.\" %\n",
      "/Users/mac/Library/Python/3.8/lib/python/site-packages/sklearn/multiclass.py:74: UserWarning: Label not 283 is present in all training examples.\n",
      "  warnings.warn(\"Label %s is present in all training examples.\" %\n",
      "/Users/mac/Library/Python/3.8/lib/python/site-packages/sklearn/multiclass.py:74: UserWarning: Label not 285 is present in all training examples.\n",
      "  warnings.warn(\"Label %s is present in all training examples.\" %\n",
      "/Users/mac/Library/Python/3.8/lib/python/site-packages/sklearn/multiclass.py:74: UserWarning: Label not 286 is present in all training examples.\n",
      "  warnings.warn(\"Label %s is present in all training examples.\" %\n",
      "/Users/mac/Library/Python/3.8/lib/python/site-packages/sklearn/multiclass.py:74: UserWarning: Label not 295 is present in all training examples.\n",
      "  warnings.warn(\"Label %s is present in all training examples.\" %\n",
      "/Users/mac/Library/Python/3.8/lib/python/site-packages/sklearn/multiclass.py:74: UserWarning: Label not 297 is present in all training examples.\n",
      "  warnings.warn(\"Label %s is present in all training examples.\" %\n",
      "/Users/mac/Library/Python/3.8/lib/python/site-packages/sklearn/multiclass.py:74: UserWarning: Label not 301 is present in all training examples.\n",
      "  warnings.warn(\"Label %s is present in all training examples.\" %\n",
      "/Users/mac/Library/Python/3.8/lib/python/site-packages/sklearn/multiclass.py:74: UserWarning: Label not 326 is present in all training examples.\n",
      "  warnings.warn(\"Label %s is present in all training examples.\" %\n",
      "/Users/mac/Library/Python/3.8/lib/python/site-packages/sklearn/multiclass.py:74: UserWarning: Label not 360 is present in all training examples.\n",
      "  warnings.warn(\"Label %s is present in all training examples.\" %\n",
      "/Users/mac/Library/Python/3.8/lib/python/site-packages/sklearn/multiclass.py:74: UserWarning: Label not 385 is present in all training examples.\n",
      "  warnings.warn(\"Label %s is present in all training examples.\" %\n",
      "/Users/mac/Library/Python/3.8/lib/python/site-packages/sklearn/multiclass.py:74: UserWarning: Label not 386 is present in all training examples.\n",
      "  warnings.warn(\"Label %s is present in all training examples.\" %\n",
      "/Users/mac/Library/Python/3.8/lib/python/site-packages/sklearn/multiclass.py:74: UserWarning: Label not 414 is present in all training examples.\n",
      "  warnings.warn(\"Label %s is present in all training examples.\" %\n",
      "/Users/mac/Library/Python/3.8/lib/python/site-packages/sklearn/multiclass.py:74: UserWarning: Label not 416 is present in all training examples.\n",
      "  warnings.warn(\"Label %s is present in all training examples.\" %\n",
      "/Users/mac/Library/Python/3.8/lib/python/site-packages/sklearn/multiclass.py:74: UserWarning: Label not 417 is present in all training examples.\n",
      "  warnings.warn(\"Label %s is present in all training examples.\" %\n",
      "/Users/mac/Library/Python/3.8/lib/python/site-packages/sklearn/multiclass.py:74: UserWarning: Label not 418 is present in all training examples.\n",
      "  warnings.warn(\"Label %s is present in all training examples.\" %\n",
      "/Users/mac/Library/Python/3.8/lib/python/site-packages/sklearn/multiclass.py:74: UserWarning: Label not 419 is present in all training examples.\n",
      "  warnings.warn(\"Label %s is present in all training examples.\" %\n",
      "/Users/mac/Library/Python/3.8/lib/python/site-packages/sklearn/multiclass.py:74: UserWarning: Label not 433 is present in all training examples.\n",
      "  warnings.warn(\"Label %s is present in all training examples.\" %\n",
      "/Users/mac/Library/Python/3.8/lib/python/site-packages/sklearn/multiclass.py:74: UserWarning: Label not 2 is present in all training examples.\n",
      "  warnings.warn(\"Label %s is present in all training examples.\" %\n",
      "/Users/mac/Library/Python/3.8/lib/python/site-packages/sklearn/multiclass.py:74: UserWarning: Label not 3 is present in all training examples.\n",
      "  warnings.warn(\"Label %s is present in all training examples.\" %\n",
      "/Users/mac/Library/Python/3.8/lib/python/site-packages/sklearn/multiclass.py:74: UserWarning: Label not 8 is present in all training examples.\n",
      "  warnings.warn(\"Label %s is present in all training examples.\" %\n",
      "/Users/mac/Library/Python/3.8/lib/python/site-packages/sklearn/multiclass.py:74: UserWarning: Label not 44 is present in all training examples.\n",
      "  warnings.warn(\"Label %s is present in all training examples.\" %\n",
      "/Users/mac/Library/Python/3.8/lib/python/site-packages/sklearn/multiclass.py:74: UserWarning: Label not 60 is present in all training examples.\n",
      "  warnings.warn(\"Label %s is present in all training examples.\" %\n",
      "/Users/mac/Library/Python/3.8/lib/python/site-packages/sklearn/multiclass.py:74: UserWarning: Label not 66 is present in all training examples.\n",
      "  warnings.warn(\"Label %s is present in all training examples.\" %\n",
      "/Users/mac/Library/Python/3.8/lib/python/site-packages/sklearn/multiclass.py:74: UserWarning: Label not 84 is present in all training examples.\n",
      "  warnings.warn(\"Label %s is present in all training examples.\" %\n",
      "/Users/mac/Library/Python/3.8/lib/python/site-packages/sklearn/multiclass.py:74: UserWarning: Label not 91 is present in all training examples.\n",
      "  warnings.warn(\"Label %s is present in all training examples.\" %\n",
      "/Users/mac/Library/Python/3.8/lib/python/site-packages/sklearn/multiclass.py:74: UserWarning: Label not 93 is present in all training examples.\n",
      "  warnings.warn(\"Label %s is present in all training examples.\" %\n",
      "/Users/mac/Library/Python/3.8/lib/python/site-packages/sklearn/multiclass.py:74: UserWarning: Label not 103 is present in all training examples.\n",
      "  warnings.warn(\"Label %s is present in all training examples.\" %\n",
      "/Users/mac/Library/Python/3.8/lib/python/site-packages/sklearn/multiclass.py:74: UserWarning: Label not 105 is present in all training examples.\n",
      "  warnings.warn(\"Label %s is present in all training examples.\" %\n",
      "/Users/mac/Library/Python/3.8/lib/python/site-packages/sklearn/multiclass.py:74: UserWarning: Label not 108 is present in all training examples.\n",
      "  warnings.warn(\"Label %s is present in all training examples.\" %\n",
      "/Users/mac/Library/Python/3.8/lib/python/site-packages/sklearn/multiclass.py:74: UserWarning: Label not 206 is present in all training examples.\n",
      "  warnings.warn(\"Label %s is present in all training examples.\" %\n",
      "/Users/mac/Library/Python/3.8/lib/python/site-packages/sklearn/multiclass.py:74: UserWarning: Label not 207 is present in all training examples.\n",
      "  warnings.warn(\"Label %s is present in all training examples.\" %\n",
      "/Users/mac/Library/Python/3.8/lib/python/site-packages/sklearn/multiclass.py:74: UserWarning: Label not 323 is present in all training examples.\n",
      "  warnings.warn(\"Label %s is present in all training examples.\" %\n",
      "/Users/mac/Library/Python/3.8/lib/python/site-packages/sklearn/multiclass.py:74: UserWarning: Label not 384 is present in all training examples.\n",
      "  warnings.warn(\"Label %s is present in all training examples.\" %\n",
      "/Users/mac/Library/Python/3.8/lib/python/site-packages/sklearn/multiclass.py:74: UserWarning: Label not 427 is present in all training examples.\n",
      "  warnings.warn(\"Label %s is present in all training examples.\" %\n",
      "/Users/mac/Library/Python/3.8/lib/python/site-packages/sklearn/multiclass.py:74: UserWarning: Label not 442 is present in all training examples.\n",
      "  warnings.warn(\"Label %s is present in all training examples.\" %\n",
      "/Users/mac/Library/Python/3.8/lib/python/site-packages/sklearn/multiclass.py:74: UserWarning: Label not 94 is present in all training examples.\n",
      "  warnings.warn(\"Label %s is present in all training examples.\" %\n",
      "/Users/mac/Library/Python/3.8/lib/python/site-packages/sklearn/multiclass.py:74: UserWarning: Label not 126 is present in all training examples.\n",
      "  warnings.warn(\"Label %s is present in all training examples.\" %\n"
     ]
    },
    {
     "name": "stderr",
     "output_type": "stream",
     "text": [
      "/Users/mac/Library/Python/3.8/lib/python/site-packages/sklearn/multiclass.py:74: UserWarning: Label not 132 is present in all training examples.\n",
      "  warnings.warn(\"Label %s is present in all training examples.\" %\n",
      "/Users/mac/Library/Python/3.8/lib/python/site-packages/sklearn/multiclass.py:74: UserWarning: Label not 192 is present in all training examples.\n",
      "  warnings.warn(\"Label %s is present in all training examples.\" %\n",
      "/Users/mac/Library/Python/3.8/lib/python/site-packages/sklearn/multiclass.py:74: UserWarning: Label not 197 is present in all training examples.\n",
      "  warnings.warn(\"Label %s is present in all training examples.\" %\n",
      "/Users/mac/Library/Python/3.8/lib/python/site-packages/sklearn/multiclass.py:74: UserWarning: Label not 202 is present in all training examples.\n",
      "  warnings.warn(\"Label %s is present in all training examples.\" %\n",
      "/Users/mac/Library/Python/3.8/lib/python/site-packages/sklearn/multiclass.py:74: UserWarning: Label not 208 is present in all training examples.\n",
      "  warnings.warn(\"Label %s is present in all training examples.\" %\n",
      "/Users/mac/Library/Python/3.8/lib/python/site-packages/sklearn/multiclass.py:74: UserWarning: Label not 209 is present in all training examples.\n",
      "  warnings.warn(\"Label %s is present in all training examples.\" %\n",
      "/Users/mac/Library/Python/3.8/lib/python/site-packages/sklearn/multiclass.py:74: UserWarning: Label not 210 is present in all training examples.\n",
      "  warnings.warn(\"Label %s is present in all training examples.\" %\n",
      "/Users/mac/Library/Python/3.8/lib/python/site-packages/sklearn/multiclass.py:74: UserWarning: Label not 211 is present in all training examples.\n",
      "  warnings.warn(\"Label %s is present in all training examples.\" %\n",
      "/Users/mac/Library/Python/3.8/lib/python/site-packages/sklearn/multiclass.py:74: UserWarning: Label not 216 is present in all training examples.\n",
      "  warnings.warn(\"Label %s is present in all training examples.\" %\n",
      "/Users/mac/Library/Python/3.8/lib/python/site-packages/sklearn/multiclass.py:74: UserWarning: Label not 224 is present in all training examples.\n",
      "  warnings.warn(\"Label %s is present in all training examples.\" %\n",
      "/Users/mac/Library/Python/3.8/lib/python/site-packages/sklearn/multiclass.py:74: UserWarning: Label not 225 is present in all training examples.\n",
      "  warnings.warn(\"Label %s is present in all training examples.\" %\n",
      "/Users/mac/Library/Python/3.8/lib/python/site-packages/sklearn/multiclass.py:74: UserWarning: Label not 226 is present in all training examples.\n",
      "  warnings.warn(\"Label %s is present in all training examples.\" %\n",
      "/Users/mac/Library/Python/3.8/lib/python/site-packages/sklearn/multiclass.py:74: UserWarning: Label not 227 is present in all training examples.\n",
      "  warnings.warn(\"Label %s is present in all training examples.\" %\n",
      "/Users/mac/Library/Python/3.8/lib/python/site-packages/sklearn/multiclass.py:74: UserWarning: Label not 233 is present in all training examples.\n",
      "  warnings.warn(\"Label %s is present in all training examples.\" %\n",
      "/Users/mac/Library/Python/3.8/lib/python/site-packages/sklearn/multiclass.py:74: UserWarning: Label not 240 is present in all training examples.\n",
      "  warnings.warn(\"Label %s is present in all training examples.\" %\n",
      "/Users/mac/Library/Python/3.8/lib/python/site-packages/sklearn/multiclass.py:74: UserWarning: Label not 246 is present in all training examples.\n",
      "  warnings.warn(\"Label %s is present in all training examples.\" %\n",
      "/Users/mac/Library/Python/3.8/lib/python/site-packages/sklearn/multiclass.py:74: UserWarning: Label not 287 is present in all training examples.\n",
      "  warnings.warn(\"Label %s is present in all training examples.\" %\n"
     ]
    }
   ],
   "source": [
    "# 3. fit\n",
    "# classfier\n",
    "clf = OneVsRestClassifier(RandomForestClassifier())\n",
    "# make scoring variable\n",
    "score_AUROC = metrics.make_scorer(roc_auc_score, average = 'micro')\n",
    "cv_dic = cross_validate(clf, drug1, interaction1, scoring = score_AUROC, cv=10)\n"
   ]
  },
  {
   "cell_type": "code",
   "execution_count": 3,
   "metadata": {},
   "outputs": [],
   "source": [
    "clf = OneVsRestClassifier(RandomForestClassifier())\n",
    "score_AUROC = metrics.make_scorer(roc_auc_score, average = 'micro')"
   ]
  },
  {
   "cell_type": "code",
   "execution_count": 48,
   "metadata": {},
   "outputs": [
    {
     "output_type": "error",
     "ename": "ValueError",
     "evalue": "Supported target types are: ('binary', 'multiclass'). Got 'multilabel-indicator' instead.",
     "traceback": [
      "\u001b[0;31m---------------------------------------------------------------------------\u001b[0m",
      "\u001b[0;31mEmpty\u001b[0m                                     Traceback (most recent call last)",
      "\u001b[0;32m~/Library/Python/3.8/lib/python/site-packages/joblib/parallel.py\u001b[0m in \u001b[0;36mdispatch_one_batch\u001b[0;34m(self, iterator)\u001b[0m\n\u001b[1;32m    796\u001b[0m             \u001b[0;32mtry\u001b[0m\u001b[0;34m:\u001b[0m\u001b[0;34m\u001b[0m\u001b[0;34m\u001b[0m\u001b[0m\n\u001b[0;32m--> 797\u001b[0;31m                 \u001b[0mtasks\u001b[0m \u001b[0;34m=\u001b[0m \u001b[0mself\u001b[0m\u001b[0;34m.\u001b[0m\u001b[0m_ready_batches\u001b[0m\u001b[0;34m.\u001b[0m\u001b[0mget\u001b[0m\u001b[0;34m(\u001b[0m\u001b[0mblock\u001b[0m\u001b[0;34m=\u001b[0m\u001b[0;32mFalse\u001b[0m\u001b[0;34m)\u001b[0m\u001b[0;34m\u001b[0m\u001b[0;34m\u001b[0m\u001b[0m\n\u001b[0m\u001b[1;32m    798\u001b[0m             \u001b[0;32mexcept\u001b[0m \u001b[0mqueue\u001b[0m\u001b[0;34m.\u001b[0m\u001b[0mEmpty\u001b[0m\u001b[0;34m:\u001b[0m\u001b[0;34m\u001b[0m\u001b[0;34m\u001b[0m\u001b[0m\n",
      "\u001b[0;32m/Library/Frameworks/Python.framework/Versions/3.8/lib/python3.8/queue.py\u001b[0m in \u001b[0;36mget\u001b[0;34m(self, block, timeout)\u001b[0m\n\u001b[1;32m    166\u001b[0m                 \u001b[0;32mif\u001b[0m \u001b[0;32mnot\u001b[0m \u001b[0mself\u001b[0m\u001b[0;34m.\u001b[0m\u001b[0m_qsize\u001b[0m\u001b[0;34m(\u001b[0m\u001b[0;34m)\u001b[0m\u001b[0;34m:\u001b[0m\u001b[0;34m\u001b[0m\u001b[0;34m\u001b[0m\u001b[0m\n\u001b[0;32m--> 167\u001b[0;31m                     \u001b[0;32mraise\u001b[0m \u001b[0mEmpty\u001b[0m\u001b[0;34m\u001b[0m\u001b[0;34m\u001b[0m\u001b[0m\n\u001b[0m\u001b[1;32m    168\u001b[0m             \u001b[0;32melif\u001b[0m \u001b[0mtimeout\u001b[0m \u001b[0;32mis\u001b[0m \u001b[0;32mNone\u001b[0m\u001b[0;34m:\u001b[0m\u001b[0;34m\u001b[0m\u001b[0;34m\u001b[0m\u001b[0m\n",
      "\u001b[0;31mEmpty\u001b[0m: ",
      "\nDuring handling of the above exception, another exception occurred:\n",
      "\u001b[0;31mValueError\u001b[0m                                Traceback (most recent call last)",
      "\u001b[0;32m<ipython-input-48-35211aff762d>\u001b[0m in \u001b[0;36m<module>\u001b[0;34m\u001b[0m\n\u001b[1;32m      1\u001b[0m \u001b[0mn_splits\u001b[0m \u001b[0;34m=\u001b[0m \u001b[0;36m10\u001b[0m\u001b[0;34m\u001b[0m\u001b[0;34m\u001b[0m\u001b[0m\n\u001b[1;32m      2\u001b[0m \u001b[0mkf\u001b[0m \u001b[0;34m=\u001b[0m \u001b[0mStratifiedKFold\u001b[0m\u001b[0;34m(\u001b[0m\u001b[0mn_splits\u001b[0m\u001b[0;34m=\u001b[0m\u001b[0mn_splits\u001b[0m\u001b[0;34m,\u001b[0m \u001b[0mshuffle\u001b[0m\u001b[0;34m=\u001b[0m\u001b[0;32mTrue\u001b[0m\u001b[0;34m,\u001b[0m \u001b[0mrandom_state\u001b[0m\u001b[0;34m=\u001b[0m\u001b[0;36m1\u001b[0m\u001b[0;34m)\u001b[0m\u001b[0;34m\u001b[0m\u001b[0;34m\u001b[0m\u001b[0m\n\u001b[0;32m----> 3\u001b[0;31m \u001b[0mcv_results\u001b[0m \u001b[0;34m=\u001b[0m \u001b[0mcross_validate\u001b[0m\u001b[0;34m(\u001b[0m\u001b[0mclf\u001b[0m\u001b[0;34m,\u001b[0m \u001b[0mdrug1\u001b[0m\u001b[0;34m,\u001b[0m \u001b[0minteraction1\u001b[0m\u001b[0;34m,\u001b[0m \u001b[0mcv\u001b[0m\u001b[0;34m=\u001b[0m\u001b[0mkf\u001b[0m\u001b[0;34m,\u001b[0m \u001b[0mscoring\u001b[0m\u001b[0;34m=\u001b[0m\u001b[0mscore_AUROC\u001b[0m\u001b[0;34m,\u001b[0m \u001b[0mreturn_train_score\u001b[0m\u001b[0;34m=\u001b[0m\u001b[0;32mFalse\u001b[0m\u001b[0;34m)\u001b[0m\u001b[0;34m\u001b[0m\u001b[0;34m\u001b[0m\u001b[0m\n\u001b[0m",
      "\u001b[0;32m~/Library/Python/3.8/lib/python/site-packages/sklearn/model_selection/_validation.py\u001b[0m in \u001b[0;36mcross_validate\u001b[0;34m(estimator, X, y, groups, scoring, cv, n_jobs, verbose, fit_params, pre_dispatch, return_train_score, return_estimator, error_score)\u001b[0m\n\u001b[1;32m    228\u001b[0m     parallel = Parallel(n_jobs=n_jobs, verbose=verbose,\n\u001b[1;32m    229\u001b[0m                         pre_dispatch=pre_dispatch)\n\u001b[0;32m--> 230\u001b[0;31m     scores = parallel(\n\u001b[0m\u001b[1;32m    231\u001b[0m         delayed(_fit_and_score)(\n\u001b[1;32m    232\u001b[0m             \u001b[0mclone\u001b[0m\u001b[0;34m(\u001b[0m\u001b[0mestimator\u001b[0m\u001b[0;34m)\u001b[0m\u001b[0;34m,\u001b[0m \u001b[0mX\u001b[0m\u001b[0;34m,\u001b[0m \u001b[0my\u001b[0m\u001b[0;34m,\u001b[0m \u001b[0mscorers\u001b[0m\u001b[0;34m,\u001b[0m \u001b[0mtrain\u001b[0m\u001b[0;34m,\u001b[0m \u001b[0mtest\u001b[0m\u001b[0;34m,\u001b[0m \u001b[0mverbose\u001b[0m\u001b[0;34m,\u001b[0m \u001b[0;32mNone\u001b[0m\u001b[0;34m,\u001b[0m\u001b[0;34m\u001b[0m\u001b[0;34m\u001b[0m\u001b[0m\n",
      "\u001b[0;32m~/Library/Python/3.8/lib/python/site-packages/joblib/parallel.py\u001b[0m in \u001b[0;36m__call__\u001b[0;34m(self, iterable)\u001b[0m\n\u001b[1;32m   1002\u001b[0m             \u001b[0;31m# remaining jobs.\u001b[0m\u001b[0;34m\u001b[0m\u001b[0;34m\u001b[0m\u001b[0;34m\u001b[0m\u001b[0m\n\u001b[1;32m   1003\u001b[0m             \u001b[0mself\u001b[0m\u001b[0;34m.\u001b[0m\u001b[0m_iterating\u001b[0m \u001b[0;34m=\u001b[0m \u001b[0;32mFalse\u001b[0m\u001b[0;34m\u001b[0m\u001b[0;34m\u001b[0m\u001b[0m\n\u001b[0;32m-> 1004\u001b[0;31m             \u001b[0;32mif\u001b[0m \u001b[0mself\u001b[0m\u001b[0;34m.\u001b[0m\u001b[0mdispatch_one_batch\u001b[0m\u001b[0;34m(\u001b[0m\u001b[0miterator\u001b[0m\u001b[0;34m)\u001b[0m\u001b[0;34m:\u001b[0m\u001b[0;34m\u001b[0m\u001b[0;34m\u001b[0m\u001b[0m\n\u001b[0m\u001b[1;32m   1005\u001b[0m                 \u001b[0mself\u001b[0m\u001b[0;34m.\u001b[0m\u001b[0m_iterating\u001b[0m \u001b[0;34m=\u001b[0m \u001b[0mself\u001b[0m\u001b[0;34m.\u001b[0m\u001b[0m_original_iterator\u001b[0m \u001b[0;32mis\u001b[0m \u001b[0;32mnot\u001b[0m \u001b[0;32mNone\u001b[0m\u001b[0;34m\u001b[0m\u001b[0;34m\u001b[0m\u001b[0m\n\u001b[1;32m   1006\u001b[0m \u001b[0;34m\u001b[0m\u001b[0m\n",
      "\u001b[0;32m~/Library/Python/3.8/lib/python/site-packages/joblib/parallel.py\u001b[0m in \u001b[0;36mdispatch_one_batch\u001b[0;34m(self, iterator)\u001b[0m\n\u001b[1;32m    806\u001b[0m                 \u001b[0mbig_batch_size\u001b[0m \u001b[0;34m=\u001b[0m \u001b[0mbatch_size\u001b[0m \u001b[0;34m*\u001b[0m \u001b[0mn_jobs\u001b[0m\u001b[0;34m\u001b[0m\u001b[0;34m\u001b[0m\u001b[0m\n\u001b[1;32m    807\u001b[0m \u001b[0;34m\u001b[0m\u001b[0m\n\u001b[0;32m--> 808\u001b[0;31m                 \u001b[0mislice\u001b[0m \u001b[0;34m=\u001b[0m \u001b[0mlist\u001b[0m\u001b[0;34m(\u001b[0m\u001b[0mitertools\u001b[0m\u001b[0;34m.\u001b[0m\u001b[0mislice\u001b[0m\u001b[0;34m(\u001b[0m\u001b[0miterator\u001b[0m\u001b[0;34m,\u001b[0m \u001b[0mbig_batch_size\u001b[0m\u001b[0;34m)\u001b[0m\u001b[0;34m)\u001b[0m\u001b[0;34m\u001b[0m\u001b[0;34m\u001b[0m\u001b[0m\n\u001b[0m\u001b[1;32m    809\u001b[0m                 \u001b[0;32mif\u001b[0m \u001b[0mlen\u001b[0m\u001b[0;34m(\u001b[0m\u001b[0mislice\u001b[0m\u001b[0;34m)\u001b[0m \u001b[0;34m==\u001b[0m \u001b[0;36m0\u001b[0m\u001b[0;34m:\u001b[0m\u001b[0;34m\u001b[0m\u001b[0;34m\u001b[0m\u001b[0m\n\u001b[1;32m    810\u001b[0m                     \u001b[0;32mreturn\u001b[0m \u001b[0;32mFalse\u001b[0m\u001b[0;34m\u001b[0m\u001b[0;34m\u001b[0m\u001b[0m\n",
      "\u001b[0;32m~/Library/Python/3.8/lib/python/site-packages/sklearn/model_selection/_validation.py\u001b[0m in \u001b[0;36m<genexpr>\u001b[0;34m(.0)\u001b[0m\n\u001b[1;32m    228\u001b[0m     parallel = Parallel(n_jobs=n_jobs, verbose=verbose,\n\u001b[1;32m    229\u001b[0m                         pre_dispatch=pre_dispatch)\n\u001b[0;32m--> 230\u001b[0;31m     scores = parallel(\n\u001b[0m\u001b[1;32m    231\u001b[0m         delayed(_fit_and_score)(\n\u001b[1;32m    232\u001b[0m             \u001b[0mclone\u001b[0m\u001b[0;34m(\u001b[0m\u001b[0mestimator\u001b[0m\u001b[0;34m)\u001b[0m\u001b[0;34m,\u001b[0m \u001b[0mX\u001b[0m\u001b[0;34m,\u001b[0m \u001b[0my\u001b[0m\u001b[0;34m,\u001b[0m \u001b[0mscorers\u001b[0m\u001b[0;34m,\u001b[0m \u001b[0mtrain\u001b[0m\u001b[0;34m,\u001b[0m \u001b[0mtest\u001b[0m\u001b[0;34m,\u001b[0m \u001b[0mverbose\u001b[0m\u001b[0;34m,\u001b[0m \u001b[0;32mNone\u001b[0m\u001b[0;34m,\u001b[0m\u001b[0;34m\u001b[0m\u001b[0;34m\u001b[0m\u001b[0m\n",
      "\u001b[0;32m~/Library/Python/3.8/lib/python/site-packages/sklearn/model_selection/_split.py\u001b[0m in \u001b[0;36msplit\u001b[0;34m(self, X, y, groups)\u001b[0m\n\u001b[1;32m    333\u001b[0m                 .format(self.n_splits, n_samples))\n\u001b[1;32m    334\u001b[0m \u001b[0;34m\u001b[0m\u001b[0m\n\u001b[0;32m--> 335\u001b[0;31m         \u001b[0;32mfor\u001b[0m \u001b[0mtrain\u001b[0m\u001b[0;34m,\u001b[0m \u001b[0mtest\u001b[0m \u001b[0;32min\u001b[0m \u001b[0msuper\u001b[0m\u001b[0;34m(\u001b[0m\u001b[0;34m)\u001b[0m\u001b[0;34m.\u001b[0m\u001b[0msplit\u001b[0m\u001b[0;34m(\u001b[0m\u001b[0mX\u001b[0m\u001b[0;34m,\u001b[0m \u001b[0my\u001b[0m\u001b[0;34m,\u001b[0m \u001b[0mgroups\u001b[0m\u001b[0;34m)\u001b[0m\u001b[0;34m:\u001b[0m\u001b[0;34m\u001b[0m\u001b[0;34m\u001b[0m\u001b[0m\n\u001b[0m\u001b[1;32m    336\u001b[0m             \u001b[0;32myield\u001b[0m \u001b[0mtrain\u001b[0m\u001b[0;34m,\u001b[0m \u001b[0mtest\u001b[0m\u001b[0;34m\u001b[0m\u001b[0;34m\u001b[0m\u001b[0m\n\u001b[1;32m    337\u001b[0m \u001b[0;34m\u001b[0m\u001b[0m\n",
      "\u001b[0;32m~/Library/Python/3.8/lib/python/site-packages/sklearn/model_selection/_split.py\u001b[0m in \u001b[0;36msplit\u001b[0;34m(self, X, y, groups)\u001b[0m\n\u001b[1;32m     78\u001b[0m         \u001b[0mX\u001b[0m\u001b[0;34m,\u001b[0m \u001b[0my\u001b[0m\u001b[0;34m,\u001b[0m \u001b[0mgroups\u001b[0m \u001b[0;34m=\u001b[0m \u001b[0mindexable\u001b[0m\u001b[0;34m(\u001b[0m\u001b[0mX\u001b[0m\u001b[0;34m,\u001b[0m \u001b[0my\u001b[0m\u001b[0;34m,\u001b[0m \u001b[0mgroups\u001b[0m\u001b[0;34m)\u001b[0m\u001b[0;34m\u001b[0m\u001b[0;34m\u001b[0m\u001b[0m\n\u001b[1;32m     79\u001b[0m         \u001b[0mindices\u001b[0m \u001b[0;34m=\u001b[0m \u001b[0mnp\u001b[0m\u001b[0;34m.\u001b[0m\u001b[0marange\u001b[0m\u001b[0;34m(\u001b[0m\u001b[0m_num_samples\u001b[0m\u001b[0;34m(\u001b[0m\u001b[0mX\u001b[0m\u001b[0;34m)\u001b[0m\u001b[0;34m)\u001b[0m\u001b[0;34m\u001b[0m\u001b[0;34m\u001b[0m\u001b[0m\n\u001b[0;32m---> 80\u001b[0;31m         \u001b[0;32mfor\u001b[0m \u001b[0mtest_index\u001b[0m \u001b[0;32min\u001b[0m \u001b[0mself\u001b[0m\u001b[0;34m.\u001b[0m\u001b[0m_iter_test_masks\u001b[0m\u001b[0;34m(\u001b[0m\u001b[0mX\u001b[0m\u001b[0;34m,\u001b[0m \u001b[0my\u001b[0m\u001b[0;34m,\u001b[0m \u001b[0mgroups\u001b[0m\u001b[0;34m)\u001b[0m\u001b[0;34m:\u001b[0m\u001b[0;34m\u001b[0m\u001b[0;34m\u001b[0m\u001b[0m\n\u001b[0m\u001b[1;32m     81\u001b[0m             \u001b[0mtrain_index\u001b[0m \u001b[0;34m=\u001b[0m \u001b[0mindices\u001b[0m\u001b[0;34m[\u001b[0m\u001b[0mnp\u001b[0m\u001b[0;34m.\u001b[0m\u001b[0mlogical_not\u001b[0m\u001b[0;34m(\u001b[0m\u001b[0mtest_index\u001b[0m\u001b[0;34m)\u001b[0m\u001b[0;34m]\u001b[0m\u001b[0;34m\u001b[0m\u001b[0;34m\u001b[0m\u001b[0m\n\u001b[1;32m     82\u001b[0m             \u001b[0mtest_index\u001b[0m \u001b[0;34m=\u001b[0m \u001b[0mindices\u001b[0m\u001b[0;34m[\u001b[0m\u001b[0mtest_index\u001b[0m\u001b[0;34m]\u001b[0m\u001b[0;34m\u001b[0m\u001b[0;34m\u001b[0m\u001b[0m\n",
      "\u001b[0;32m~/Library/Python/3.8/lib/python/site-packages/sklearn/model_selection/_split.py\u001b[0m in \u001b[0;36m_iter_test_masks\u001b[0;34m(self, X, y, groups)\u001b[0m\n\u001b[1;32m    690\u001b[0m \u001b[0;34m\u001b[0m\u001b[0m\n\u001b[1;32m    691\u001b[0m     \u001b[0;32mdef\u001b[0m \u001b[0m_iter_test_masks\u001b[0m\u001b[0;34m(\u001b[0m\u001b[0mself\u001b[0m\u001b[0;34m,\u001b[0m \u001b[0mX\u001b[0m\u001b[0;34m,\u001b[0m \u001b[0my\u001b[0m\u001b[0;34m=\u001b[0m\u001b[0;32mNone\u001b[0m\u001b[0;34m,\u001b[0m \u001b[0mgroups\u001b[0m\u001b[0;34m=\u001b[0m\u001b[0;32mNone\u001b[0m\u001b[0;34m)\u001b[0m\u001b[0;34m:\u001b[0m\u001b[0;34m\u001b[0m\u001b[0;34m\u001b[0m\u001b[0m\n\u001b[0;32m--> 692\u001b[0;31m         \u001b[0mtest_folds\u001b[0m \u001b[0;34m=\u001b[0m \u001b[0mself\u001b[0m\u001b[0;34m.\u001b[0m\u001b[0m_make_test_folds\u001b[0m\u001b[0;34m(\u001b[0m\u001b[0mX\u001b[0m\u001b[0;34m,\u001b[0m \u001b[0my\u001b[0m\u001b[0;34m)\u001b[0m\u001b[0;34m\u001b[0m\u001b[0;34m\u001b[0m\u001b[0m\n\u001b[0m\u001b[1;32m    693\u001b[0m         \u001b[0;32mfor\u001b[0m \u001b[0mi\u001b[0m \u001b[0;32min\u001b[0m \u001b[0mrange\u001b[0m\u001b[0;34m(\u001b[0m\u001b[0mself\u001b[0m\u001b[0;34m.\u001b[0m\u001b[0mn_splits\u001b[0m\u001b[0;34m)\u001b[0m\u001b[0;34m:\u001b[0m\u001b[0;34m\u001b[0m\u001b[0;34m\u001b[0m\u001b[0m\n\u001b[1;32m    694\u001b[0m             \u001b[0;32myield\u001b[0m \u001b[0mtest_folds\u001b[0m \u001b[0;34m==\u001b[0m \u001b[0mi\u001b[0m\u001b[0;34m\u001b[0m\u001b[0;34m\u001b[0m\u001b[0m\n",
      "\u001b[0;32m~/Library/Python/3.8/lib/python/site-packages/sklearn/model_selection/_split.py\u001b[0m in \u001b[0;36m_make_test_folds\u001b[0;34m(self, X, y)\u001b[0m\n\u001b[1;32m    642\u001b[0m         \u001b[0mallowed_target_types\u001b[0m \u001b[0;34m=\u001b[0m \u001b[0;34m(\u001b[0m\u001b[0;34m'binary'\u001b[0m\u001b[0;34m,\u001b[0m \u001b[0;34m'multiclass'\u001b[0m\u001b[0;34m)\u001b[0m\u001b[0;34m\u001b[0m\u001b[0;34m\u001b[0m\u001b[0m\n\u001b[1;32m    643\u001b[0m         \u001b[0;32mif\u001b[0m \u001b[0mtype_of_target_y\u001b[0m \u001b[0;32mnot\u001b[0m \u001b[0;32min\u001b[0m \u001b[0mallowed_target_types\u001b[0m\u001b[0;34m:\u001b[0m\u001b[0;34m\u001b[0m\u001b[0;34m\u001b[0m\u001b[0m\n\u001b[0;32m--> 644\u001b[0;31m             raise ValueError(\n\u001b[0m\u001b[1;32m    645\u001b[0m                 'Supported target types are: {}. Got {!r} instead.'.format(\n\u001b[1;32m    646\u001b[0m                     allowed_target_types, type_of_target_y))\n",
      "\u001b[0;31mValueError\u001b[0m: Supported target types are: ('binary', 'multiclass'). Got 'multilabel-indicator' instead."
     ]
    }
   ],
   "source": [
    "n_splits = 10\n",
    "kf = StratifiedKFold(n_splits=n_splits, shuffle=True, random_state=1)\n",
    "cv_results = cross_validate(clf, drug1, interaction1, cv=kf, scoring=score_AUROC, return_train_score=False)"
   ]
  },
  {
   "cell_type": "code",
   "execution_count": 28,
   "metadata": {},
   "outputs": [
    {
     "output_type": "execute_result",
     "data": {
      "text/plain": [
       "0.7910088378459943"
      ]
     },
     "metadata": {},
     "execution_count": 28
    }
   ],
   "source": [
    "np.mean(cv_results['test_score'])"
   ]
  },
  {
   "cell_type": "code",
   "execution_count": 30,
   "metadata": {},
   "outputs": [],
   "source": [
    "score_AUPR = metrics.make_scorer(average_precision_score, average = 'micro')\n",
    "cv_results_aupr = cross_validate(clf, drug1, interaction1, cv=kf, scoring=score_AUPR, return_train_score=False)\n"
   ]
  },
  {
   "cell_type": "code",
   "execution_count": 31,
   "metadata": {},
   "outputs": [
    {
     "output_type": "execute_result",
     "data": {
      "text/plain": [
       "{'fit_time': array([95.89240503, 88.710531  , 92.55447984, 93.72642112, 92.27007604,\n",
       "        86.51752877, 87.10533404, 86.20364094, 88.978441  , 85.43453598]),\n",
       " 'score_time': array([3.12292194, 2.95259213, 3.31220317, 3.12070584, 3.3760879 ,\n",
       "        2.86066222, 3.04054213, 2.87003613, 3.07627273, 2.91358376]),\n",
       " 'test_score': array([0.45923646, 0.63952234, 0.61682052, 0.49618775, 0.63596222,\n",
       "        0.52874632, 0.51910913, 0.56350953, 0.54261633, 0.55982797])}"
      ]
     },
     "metadata": {},
     "execution_count": 31
    }
   ],
   "source": [
    "cv_results_aupr"
   ]
  },
  {
   "cell_type": "code",
   "execution_count": 32,
   "metadata": {},
   "outputs": [
    {
     "output_type": "execute_result",
     "data": {
      "text/plain": [
       "0.5561538577176325"
      ]
     },
     "metadata": {},
     "execution_count": 32
    }
   ],
   "source": [
    "np.mean(cv_results_aupr['test_score'])"
   ]
  },
  {
   "cell_type": "code",
   "execution_count": 46,
   "metadata": {},
   "outputs": [
    {
     "output_type": "error",
     "ename": "ImportError",
     "evalue": "cannot import name 'cross_validation' from 'sklearn' (/Users/mac/Library/Python/3.8/lib/python/site-packages/sklearn/__init__.py)",
     "traceback": [
      "\u001b[0;31m---------------------------------------------------------------------------\u001b[0m",
      "\u001b[0;31mImportError\u001b[0m                               Traceback (most recent call last)",
      "\u001b[0;32m<ipython-input-46-b0e3a3039768>\u001b[0m in \u001b[0;36m<module>\u001b[0;34m\u001b[0m\n\u001b[0;32m----> 1\u001b[0;31m \u001b[0;32mfrom\u001b[0m \u001b[0msklearn\u001b[0m \u001b[0;32mimport\u001b[0m \u001b[0mcross_validation\u001b[0m\u001b[0;34m\u001b[0m\u001b[0;34m\u001b[0m\u001b[0m\n\u001b[0m\u001b[1;32m      2\u001b[0m \u001b[0mkfold\u001b[0m \u001b[0;34m=\u001b[0m \u001b[0msklearn\u001b[0m\u001b[0;34m.\u001b[0m\u001b[0mcross_validation\u001b[0m\u001b[0;34m.\u001b[0m\u001b[0mStratifiedKFold\u001b[0m\u001b[0;34m(\u001b[0m\u001b[0mXinteraction1\u001b[0m\u001b[0;34m,\u001b[0m \u001b[0mn_folds\u001b[0m \u001b[0;34m=\u001b[0m \u001b[0;36m10\u001b[0m\u001b[0;34m,\u001b[0m \u001b[0mrandom_state\u001b[0m\u001b[0;34m=\u001b[0m\u001b[0;36m1\u001b[0m\u001b[0;34m)\u001b[0m\u001b[0;34m\u001b[0m\u001b[0;34m\u001b[0m\u001b[0m\n\u001b[1;32m      3\u001b[0m \u001b[0mscores\u001b[0m \u001b[0;34m=\u001b[0m \u001b[0;34m[\u001b[0m\u001b[0;34m]\u001b[0m\u001b[0;34m\u001b[0m\u001b[0;34m\u001b[0m\u001b[0m\n\u001b[1;32m      4\u001b[0m \u001b[0;32mfor\u001b[0m \u001b[0mk\u001b[0m\u001b[0;34m,\u001b[0m\u001b[0;34m(\u001b[0m\u001b[0mtrain\u001b[0m\u001b[0;34m,\u001b[0m\u001b[0mtest\u001b[0m\u001b[0;34m)\u001b[0m \u001b[0;32min\u001b[0m \u001b[0menumerate\u001b[0m\u001b[0;34m(\u001b[0m\u001b[0mkfold\u001b[0m\u001b[0;34m)\u001b[0m\u001b[0;34m:\u001b[0m\u001b[0;34m\u001b[0m\u001b[0;34m\u001b[0m\u001b[0m\n\u001b[1;32m      5\u001b[0m     \u001b[0mclf\u001b[0m\u001b[0;34m.\u001b[0m\u001b[0mfit\u001b[0m\u001b[0;34m(\u001b[0m\u001b[0mdrug1\u001b[0m\u001b[0;34m[\u001b[0m\u001b[0mtrain\u001b[0m\u001b[0;34m]\u001b[0m\u001b[0;34m,\u001b[0m \u001b[0minteraction1\u001b[0m\u001b[0;34m[\u001b[0m\u001b[0mtrain\u001b[0m\u001b[0;34m]\u001b[0m\u001b[0;34m)\u001b[0m\u001b[0;34m\u001b[0m\u001b[0;34m\u001b[0m\u001b[0m\n",
      "\u001b[0;31mImportError\u001b[0m: cannot import name 'cross_validation' from 'sklearn' (/Users/mac/Library/Python/3.8/lib/python/site-packages/sklearn/__init__.py)"
     ]
    }
   ],
   "source": [
    "from sklearn import cross_validation\n",
    "kf = StratifiedKFold(n_splits=10)\n",
    "scores = []\n",
    "for k,(train,test) in enumerate(kfold):\n",
    "    clf.fit(drug1[train], interaction1[train])\n",
    "    score = clf.score(drug1[test], interaction1[test])\n",
    "    scores.append(score)\n",
    "    print('fold:{k+1}, class dist:{np.bincount(interaction1[train])}, acc:{score}')"
   ]
  },
  {
   "cell_type": "code",
   "execution_count": 3,
   "metadata": {},
   "outputs": [
    {
     "name": "stdout",
     "output_type": "stream",
     "text": [
      "0.5692669965053087\n",
      "0.11827630315271997\n"
     ]
    }
   ],
   "source": [
    "## Gprotein \n",
    "drug2 = np.loadtxt('/Users/mac/OneDrive/thesis/script/dataset/DPI_Gprotein/dpig_X1.txt')\n",
    "interaction2 = np.loadtxt('/Users/mac/OneDrive/thesis/script/dataset/DPI_Gprotein/dpig_Y.txt')\n",
    "clf = OneVsRestClassifier(RandomForestClassifier())\n",
    "score_AUROC = metrics.make_scorer(roc_auc_score, average = 'micro')\n",
    "score_AUPR = metrics.make_scorer(average_precision_score, average = 'micro')\n",
    "cv_dic2_auroc = cross_validate(clf, drug2, interaction2, scoring = score_AUROC, cv=10)\n",
    "cv_dic2_aupr = cross_validate(clf, drug2, interaction2, scoring = score_AUPR, cv=10)\n",
    "#auroc\n",
    "print(np.mean(cv_dic2_auroc['test_score']))\n",
    "#aupr\n",
    "print(np.mean(cv_dic2_aupr['test_score']))"
   ]
  },
  {
   "cell_type": "code",
   "execution_count": 4,
   "metadata": {},
   "outputs": [
    {
     "name": "stdout",
     "output_type": "stream",
     "text": [
      "0.565403169586913\n",
      "0.1096111780167168\n"
     ]
    }
   ],
   "source": [
    "# ion \n",
    "drug3 = np.loadtxt('/Users/mac/OneDrive/thesis/script/dataset/DPI_ion/dpii_X1_drugfeature.txt')\n",
    "interaction3 = np.loadtxt('/Users/mac/OneDrive/thesis/script/dataset/DPI_ion/dpii_Y.txt')\n",
    "cv_dic3_auroc = cross_validate(clf, drug2, interaction2, scoring = score_AUROC, cv=10)\n",
    "cv_dic3_aupr = cross_validate(clf, drug2, interaction2, scoring = score_AUPR, cv=10)\n",
    "#auroc\n",
    "print(np.mean(cv_dic3_auroc['test_score']))\n",
    "#aupr\n",
    "print(np.mean(cv_dic3_aupr['test_score']))"
   ]
  },
  {
   "cell_type": "code",
   "execution_count": null,
   "metadata": {},
   "outputs": [],
   "source": []
  }
 ],
 "metadata": {
  "kernelspec": {
   "display_name": "Python 3.8.0 64-bit",
   "language": "python",
   "name": "python38064bitda74fdf623974235942dd8c620d67e3f"
  },
  "language_info": {
   "codemirror_mode": {
    "name": "ipython",
    "version": 3
   },
   "file_extension": ".py",
   "mimetype": "text/x-python",
   "name": "python",
   "nbconvert_exporter": "python",
   "pygments_lexer": "ipython3",
   "version": "3.8.0-final"
  }
 },
 "nbformat": 4,
 "nbformat_minor": 2
}