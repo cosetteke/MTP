{
 "cells": [
  {
   "cell_type": "code",
   "execution_count": 1,
   "metadata": {},
   "outputs": [],
   "source": [
    "import numpy as np"
   ]
  },
  {
   "cell_type": "code",
   "execution_count": 2,
   "metadata": {},
   "outputs": [],
   "source": [
    "from sklearn.multiclass import OneVsRestClassifier\n",
    "from sklearn.svm import SVC\n",
    "from sklearn.ensemble import RandomForestClassifier\n",
    "from sklearn.metrics import roc_auc_score, average_precision_score, confusion_matrix\n",
    "import sklearn.metrics as metrics\n",
    "from sklearn.model_selection import KFold\n",
    "from sklearn.linear_model import LogisticRegression"
   ]
  },
  {
   "cell_type": "code",
   "execution_count": 3,
   "metadata": {},
   "outputs": [],
   "source": [
    "metrics_to_calculate = ['auroc', 'aupr']"
   ]
  },
  {
   "cell_type": "markdown",
   "metadata": {},
   "source": [
    "# Load the drug features"
   ]
  },
  {
   "cell_type": "code",
   "execution_count": 4,
   "metadata": {},
   "outputs": [],
   "source": [
    "drug_features = np.loadtxt('/Users/mac/OneDrive/thesis/scripts/dataset/DPI_enzyme/drug_feature.txt')"
   ]
  },
  {
   "cell_type": "code",
   "execution_count": 5,
   "metadata": {},
   "outputs": [
    {
     "output_type": "execute_result",
     "data": {
      "text/plain": [
       "array([[1.        , 0.02575215, 0.02157473, ..., 0.02354165, 0.02012412,\n",
       "        0.0206892 ],\n",
       "       [0.02575215, 1.        , 0.01832524, ..., 0.02518895, 0.01770358,\n",
       "        0.02352885],\n",
       "       [0.02157473, 0.01832524, 1.        , ..., 0.01711643, 0.01601936,\n",
       "        0.01656275],\n",
       "       ...,\n",
       "       [0.02354165, 0.02518895, 0.01711643, ..., 1.        , 0.01800374,\n",
       "        0.01888761],\n",
       "       [0.02012412, 0.01770358, 0.01601936, ..., 0.01800374, 1.        ,\n",
       "        0.01459084],\n",
       "       [0.0206892 , 0.02352885, 0.01656275, ..., 0.01888761, 0.01459084,\n",
       "        1.        ]])"
      ]
     },
     "metadata": {},
     "execution_count": 5
    }
   ],
   "source": [
    "drug_features"
   ]
  },
  {
   "cell_type": "code",
   "execution_count": 6,
   "metadata": {},
   "outputs": [],
   "source": [
    "interaction_matrix = np.loadtxt('/Users/mac/OneDrive/thesis/scripts/dataset/DPI_enzyme/dpie_Y.txt')"
   ]
  },
  {
   "cell_type": "code",
   "execution_count": 7,
   "metadata": {},
   "outputs": [
    {
     "output_type": "execute_result",
     "data": {
      "text/plain": [
       "array([[1., 0., 0., ..., 0., 0., 0.],\n",
       "       [0., 0., 0., ..., 0., 0., 0.],\n",
       "       [0., 0., 0., ..., 0., 0., 0.],\n",
       "       ...,\n",
       "       [0., 0., 0., ..., 0., 0., 0.],\n",
       "       [0., 0., 0., ..., 0., 0., 0.],\n",
       "       [0., 0., 0., ..., 0., 0., 0.]])"
      ]
     },
     "metadata": {},
     "execution_count": 7
    }
   ],
   "source": [
    "interaction_matrix"
   ]
  },
  {
   "cell_type": "code",
   "execution_count": 8,
   "metadata": {},
   "outputs": [],
   "source": [
    "metric_values_per_fold = {}\n",
    "if 'auroc' in metrics_to_calculate:\n",
    "    metric_values_per_fold['auroc_micro'] = []\n",
    "    metric_values_per_fold['auroc_macro'] = []\n",
    "if 'aupr' in metrics_to_calculate:\n",
    "    metric_values_per_fold['aupr_micro'] = []\n",
    "    metric_values_per_fold['aupr_macro'] = []"
   ]
  },
  {
   "cell_type": "code",
   "execution_count": 22,
   "metadata": {},
   "outputs": [
    {
     "output_type": "error",
     "ename": "SyntaxError",
     "evalue": "invalid syntax (<ipython-input-22-7aea7040662e>, line 1)",
     "traceback": [
      "\u001b[0;36m  File \u001b[0;32m\"<ipython-input-22-7aea7040662e>\"\u001b[0;36m, line \u001b[0;32m1\u001b[0m\n\u001b[0;31m    kf = KFold(n_splits=10, shuffle=True random_state=42)\u001b[0m\n\u001b[0m                                         ^\u001b[0m\n\u001b[0;31mSyntaxError\u001b[0m\u001b[0;31m:\u001b[0m invalid syntax\n"
     ]
    }
   ],
   "source": [
    "kf = KFold(n_splits=10, shuffle=True,random_state=42)"
   ]
  },
  {
   "cell_type": "code",
   "execution_count": 23,
   "metadata": {},
   "outputs": [
    {
     "output_type": "stream",
     "name": "stdout",
     "text": [
      "======================= Fold 0 =======================\n",
      "(67, 445)\n",
      "86 out of the 445 total labels has more than one classes present\n",
      "========================================================================\n",
      "\n",
      "======================= Fold 1 =======================\n",
      "(67, 445)\n",
      "137 out of the 445 total labels has more than one classes present\n",
      "========================================================================\n",
      "\n",
      "======================= Fold 2 =======================\n",
      "(67, 445)\n",
      "78 out of the 445 total labels has more than one classes present\n",
      "========================================================================\n",
      "\n",
      "======================= Fold 3 =======================\n",
      "(67, 445)\n",
      "116 out of the 445 total labels has more than one classes present\n",
      "========================================================================\n",
      "\n",
      "======================= Fold 4 =======================\n",
      "(66, 445)\n",
      "119 out of the 445 total labels has more than one classes present\n",
      "========================================================================\n",
      "\n",
      "======================= Fold 5 =======================\n",
      "(66, 445)\n",
      "95 out of the 445 total labels has more than one classes present\n",
      "========================================================================\n",
      "\n",
      "======================= Fold 6 =======================\n",
      "(66, 445)\n",
      "55 out of the 445 total labels has more than one classes present\n",
      "========================================================================\n",
      "\n",
      "======================= Fold 7 =======================\n",
      "(66, 445)\n",
      "112 out of the 445 total labels has more than one classes present\n",
      "========================================================================\n",
      "\n",
      "======================= Fold 8 =======================\n",
      "(66, 445)\n",
      "90 out of the 445 total labels has more than one classes present\n",
      "========================================================================\n",
      "\n",
      "======================= Fold 9 =======================\n",
      "(66, 445)\n",
      "101 out of the 445 total labels has more than one classes present\n",
      "========================================================================\n",
      "\n"
     ]
    }
   ],
   "source": [
    "fold_counter = 0\n",
    "for train_index, test_index in kf.split(drug_features):\n",
    "    print('======================= Fold '+str(fold_counter)+' =======================')\n",
    "    \n",
    "    # split the dataset\n",
    "    X_train, X_test = drug_features[train_index], drug_features[test_index]\n",
    "    y_train, y_test = interaction_matrix[train_index], interaction_matrix[test_index]\n",
    "    \n",
    "    # define the oneVSrest classifier with the base classifier\n",
    "    clf = OneVsRestClassifier(RandomForestClassifier())\n",
    "    \n",
    "    # clf = OneVsRestClassifier(LogisticRegression(random_state=0))\n",
    "    \n",
    "    # fit the classifier on the training set\n",
    "    clf.fit(X_train, y_train)\n",
    "    \n",
    "    # generate probability predictions for every sample in the test set\n",
    "    y_pred = clf.predict_proba(X_test)\n",
    "    \n",
    "    print(str(y_pred.shape))\n",
    "    \n",
    "    # calculate the performance metrics on the test set\n",
    "    if 'auroc' in metrics_to_calculate:\n",
    "        metric_values_per_fold['auroc_micro'].append(roc_auc_score(y_test, y_pred, average='micro'))\n",
    "        \n",
    "        # This is not really important as we are only interested in the micro measures.\n",
    "        # Nevertheless, I basically do the macro averaging by hand so that I can skip labels that have only samples with one class\n",
    "        roc_auc_per_label = []\n",
    "        for label_idx in range(interaction_matrix.shape[1]):\n",
    "            if len(set(y_test[:, label_idx])) >= 2:\n",
    "                roc_auc_per_label.append(roc_auc_score(y_test[:, label_idx], y_pred[:, label_idx]))\n",
    "        print(str(len(roc_auc_per_label))+' out of the '+str(y_test.shape[1])+' total labels has more than one classes present')\n",
    "        \n",
    "        metric_values_per_fold['auroc_macro'].append(np.mean(roc_auc_per_label))\n",
    "\n",
    "        \n",
    "    if 'aupr' in metrics_to_calculate:\n",
    "        metric_values_per_fold['aupr_micro'].append(average_precision_score(y_test, y_pred, average='micro'))\n",
    "        \n",
    "        aupr_per_label = []\n",
    "        for label_idx in range(interaction_matrix.shape[1]):\n",
    "            if len(set(y_test[:, label_idx])) >= 2:\n",
    "                aupr_per_label.append(average_precision_score(y_test[:, label_idx], y_pred[:, label_idx]))\n",
    "        \n",
    "        metric_values_per_fold['aupr_macro'].append(np.mean(aupr_per_label))\n",
    "\n",
    "    \n",
    "    fold_counter += 1\n",
    "    print('========================================================================')\n",
    "    print('')"
   ]
  },
  {
   "cell_type": "code",
   "execution_count": 24,
   "metadata": {},
   "outputs": [
    {
     "output_type": "execute_result",
     "data": {
      "text/plain": [
       "{'auroc_micro': [0.9178056043871273,\n",
       "  0.9048886327423128,\n",
       "  0.8105207578583873,\n",
       "  0.8678018708297418,\n",
       "  0.9262069739954057,\n",
       "  0.899674992885821,\n",
       "  0.9229693025138971,\n",
       "  0.8271235301284579,\n",
       "  0.9527973443573754,\n",
       "  0.9000575719560606,\n",
       "  0.9439448064753961,\n",
       "  0.8470234547450133,\n",
       "  0.9063987540749845,\n",
       "  0.8061327149758676,\n",
       "  0.6902393637618103,\n",
       "  0.9019219468703774,\n",
       "  0.9199736622532129,\n",
       "  0.6003492643043348,\n",
       "  0.7449108185233451,\n",
       "  0.8872020110989898,\n",
       "  0.9411171971092168,\n",
       "  0.8889592816255487,\n",
       "  0.9309642830066547,\n",
       "  0.8566944539787447,\n",
       "  0.7745198468015602,\n",
       "  0.8960726732994266,\n",
       "  0.8275798703643849,\n",
       "  0.7406435655643101,\n",
       "  0.8216494138665025,\n",
       "  0.8958525233600532,\n",
       "  0.936890381082197,\n",
       "  0.8900742378452859,\n",
       "  0.9291698726169102,\n",
       "  0.8548822286310547,\n",
       "  0.7689308201561084,\n",
       "  0.8900985795627241,\n",
       "  0.828722746606021,\n",
       "  0.732367364577847,\n",
       "  0.8276323888579512,\n",
       "  0.9047549566001044,\n",
       "  0.9454398643011921,\n",
       "  0.8865494331361918,\n",
       "  0.9281000703523169,\n",
       "  0.8582449556230055,\n",
       "  0.7692763116208339,\n",
       "  0.8921180421875949,\n",
       "  0.8298290168545399,\n",
       "  0.7286845110267803,\n",
       "  0.8260576939385288,\n",
       "  0.9005231703268035],\n",
       " 'auroc_macro': [0.8857646252123708,\n",
       "  0.9518755984205539,\n",
       "  0.793437155215985,\n",
       "  0.8459024813002519,\n",
       "  0.8988130787155915,\n",
       "  0.840847169334547,\n",
       "  0.8874525417710285,\n",
       "  0.8969813170560584,\n",
       "  0.9271352780005394,\n",
       "  0.8348906716955583,\n",
       "  0.9352602773256284,\n",
       "  0.6559482253669249,\n",
       "  0.8082693107101739,\n",
       "  0.8386808533946492,\n",
       "  0.7268075522002029,\n",
       "  0.7638161214166109,\n",
       "  0.7698776773155255,\n",
       "  0.7336295671512326,\n",
       "  0.8014451523188083,\n",
       "  0.9034666576482373,\n",
       "  0.9007078491250242,\n",
       "  0.6439150372320381,\n",
       "  0.7763850567687058,\n",
       "  0.8195790913348218,\n",
       "  0.714009854102816,\n",
       "  0.7549143345848958,\n",
       "  0.733883177751491,\n",
       "  0.709907501071123,\n",
       "  0.7731072622266058,\n",
       "  0.8521532359305127,\n",
       "  0.8934527918667821,\n",
       "  0.6540486401625366,\n",
       "  0.7821805936797398,\n",
       "  0.8136998083883014,\n",
       "  0.7060568058673045,\n",
       "  0.7521409037548136,\n",
       "  0.7370131976631279,\n",
       "  0.7000751486404168,\n",
       "  0.7745651514289508,\n",
       "  0.8566483327265265,\n",
       "  0.9050952994729621,\n",
       "  0.6374389945676137,\n",
       "  0.7618277244288212,\n",
       "  0.823400644645412,\n",
       "  0.7118838093416862,\n",
       "  0.7503458635425246,\n",
       "  0.7470902900177174,\n",
       "  0.6928015186689015,\n",
       "  0.7620448002689266,\n",
       "  0.8528055639280205],\n",
       " 'aupr_micro': [0.7660973186509318,\n",
       "  0.6253469471832852,\n",
       "  0.6706014424168385,\n",
       "  0.6350879628650368,\n",
       "  0.7370914322324752,\n",
       "  0.6039909093063005,\n",
       "  0.7567451089304342,\n",
       "  0.5900842703310479,\n",
       "  0.7447303037251997,\n",
       "  0.7525937336708889,\n",
       "  0.57978881762051,\n",
       "  0.7444824572620257,\n",
       "  0.791406804639031,\n",
       "  0.5149931518497267,\n",
       "  0.46929172883768216,\n",
       "  0.6842587645364238,\n",
       "  0.5874724957854255,\n",
       "  0.33962924557536067,\n",
       "  0.5238073467138948,\n",
       "  0.6145605796263248,\n",
       "  0.608806165124266,\n",
       "  0.7652528535798226,\n",
       "  0.7891678415353007,\n",
       "  0.5175552944656469,\n",
       "  0.4932313812751287,\n",
       "  0.6854486124204161,\n",
       "  0.4575185306713894,\n",
       "  0.37807835865534667,\n",
       "  0.5468836743810863,\n",
       "  0.7481377766921973,\n",
       "  0.6156027904483049,\n",
       "  0.7671303081788836,\n",
       "  0.7876851112487229,\n",
       "  0.5193956535934521,\n",
       "  0.49271523277362683,\n",
       "  0.6877386486138068,\n",
       "  0.4564027919182183,\n",
       "  0.3822286469059807,\n",
       "  0.5489455499007742,\n",
       "  0.7423707666523681,\n",
       "  0.6129765707901434,\n",
       "  0.769622466123672,\n",
       "  0.7847582262541267,\n",
       "  0.5273797328499703,\n",
       "  0.4947620599616439,\n",
       "  0.6952655289839127,\n",
       "  0.4738377223438432,\n",
       "  0.37848696446927044,\n",
       "  0.5468849560244722,\n",
       "  0.7500359698541363],\n",
       " 'aupr_macro': [0.7219900383918733,\n",
       "  0.8769735900693129,\n",
       "  0.5353371807702461,\n",
       "  0.6259584490201805,\n",
       "  0.758473144381434,\n",
       "  0.6718900188404825,\n",
       "  0.7251798779602202,\n",
       "  0.781670859948436,\n",
       "  0.8029915291089604,\n",
       "  0.6204039651172086,\n",
       "  0.8203410703269264,\n",
       "  0.30725122700704843,\n",
       "  0.569680851050421,\n",
       "  0.6426288510626447,\n",
       "  0.42600696116872444,\n",
       "  0.5366623705359965,\n",
       "  0.5354386719281304,\n",
       "  0.3987669208130259,\n",
       "  0.5620396583292884,\n",
       "  0.7919484834115704,\n",
       "  0.7669518996672638,\n",
       "  0.2924808157541833,\n",
       "  0.5458256103542525,\n",
       "  0.5872543709860215,\n",
       "  0.40747019992998584,\n",
       "  0.4939153578130254,\n",
       "  0.4914528673343582,\n",
       "  0.3877851009908859,\n",
       "  0.49974087299487197,\n",
       "  0.697795392861094,\n",
       "  0.764208552170748,\n",
       "  0.29861445702951894,\n",
       "  0.5308039225759658,\n",
       "  0.578617283465529,\n",
       "  0.40511368223632044,\n",
       "  0.489986335812863,\n",
       "  0.47924569431806463,\n",
       "  0.3815897223971158,\n",
       "  0.5124270165958541,\n",
       "  0.6929152569127988,\n",
       "  0.7575333673499718,\n",
       "  0.2972387746218385,\n",
       "  0.5173902057341637,\n",
       "  0.5882891432394989,\n",
       "  0.4078412138702243,\n",
       "  0.49133756967576464,\n",
       "  0.48268422166863123,\n",
       "  0.37881184001080587,\n",
       "  0.4791657934377038,\n",
       "  0.7059147302346075]}"
      ]
     },
     "metadata": {},
     "execution_count": 24
    }
   ],
   "source": [
    "metric_values_per_fold"
   ]
  },
  {
   "cell_type": "code",
   "execution_count": 25,
   "metadata": {},
   "outputs": [
    {
     "output_type": "stream",
     "name": "stdout",
     "text": [
      "auroc_micro: 0.8576068626723664 (0.07480293149117931)\n\nauroc_macro: 0.7938695918951919 (0.08103710863859921)\n\naupr_micro: 0.6151273401689754 (0.12773729630136732)\n\naupr_macro: 0.5624406998257213 (0.15253879717886165)\n\n"
     ]
    }
   ],
   "source": [
    "# calculate the mean and std for every metric measured during training and validation\n",
    "for metric_name in metric_values_per_fold.keys():\n",
    "    print(metric_name+': '+ str(np.mean(metric_values_per_fold[metric_name])) +' ('+ str(np.std(metric_values_per_fold[metric_name])) +')')\n",
    "    print('')"
   ]
  },
  {
   "cell_type": "code",
   "execution_count": null,
   "metadata": {},
   "outputs": [],
   "source": []
  },
  {
   "cell_type": "code",
   "execution_count": null,
   "metadata": {},
   "outputs": [],
   "source": []
  },
  {
   "cell_type": "code",
   "execution_count": null,
   "metadata": {},
   "outputs": [],
   "source": []
  },
  {
   "cell_type": "code",
   "execution_count": null,
   "metadata": {},
   "outputs": [],
   "source": []
  }
 ],
 "metadata": {
  "kernelspec": {
   "name": "python38064bitda74fdf623974235942dd8c620d67e3f",
   "language": "python",
   "display_name": "Python 3.8.0 64-bit"
  },
  "language_info": {
   "codemirror_mode": {
    "name": "ipython",
    "version": 3
   },
   "file_extension": ".py",
   "mimetype": "text/x-python",
   "name": "python",
   "nbconvert_exporter": "python",
   "pygments_lexer": "ipython3",
   "version": "3.8.0-final"
  }
 },
 "nbformat": 4,
 "nbformat_minor": 4
}