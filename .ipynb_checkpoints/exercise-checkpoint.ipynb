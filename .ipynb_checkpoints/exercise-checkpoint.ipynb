{
 "cells": [
  {
   "cell_type": "code",
   "execution_count": 1,
   "metadata": {},
   "outputs": [],
   "source": [
    "from sklearn import svm\n",
    "from sklearn.svm import SVC\n",
    "import numpy as np \n",
    "from sklearn.model_selection import train_test_split, KFold, cross_validate, GridSearchCV \n",
    "from sklearn.multiclass import OneVsRestClassifier\n",
    "from sklearn.ensemble import RandomForestClassifier\n",
    "from sklearn.preprocessing import LabelBinarizer\n",
    "from sklearn.preprocessing import MultiLabelBinarizer\n",
    "from sklearn import metrics\n",
    "from sklearn.svm import LinearSVC\n",
    "from sklearn.datasets import load_svmlight_file\n",
    "from sklearn.model_selection import cross_val_score\n",
    "from sklearn.metrics import roc_auc_score, average_precision_score\n",
    "from sklearn.metrics import make_scorer"
   ]
  },
  {
   "cell_type": "code",
   "execution_count": 2,
   "metadata": {},
   "outputs": [],
   "source": [
    "# read the data\n",
    "drug1 = np.loadtxt('/Users/mac/OneDrive/thesis/script/dataset/DPI_enzyme/drug_feature.txt')\n",
    "interaction1 = np.loadtxt('/Users/mac/OneDrive/thesis/script/dataset/DPI_enzyme/dpie_Y.txt')"
   ]
  },
  {
   "cell_type": "code",
   "execution_count": null,
   "metadata": {},
   "outputs": [
    {
     "name": "stderr",
     "output_type": "stream",
     "text": [
      "/Users/mac/Library/Python/3.8/lib/python/site-packages/sklearn/multiclass.py:74: UserWarning: Label not 16 is present in all training examples.\n",
      "  warnings.warn(\"Label %s is present in all training examples.\" %\n",
      "/Users/mac/Library/Python/3.8/lib/python/site-packages/sklearn/multiclass.py:74: UserWarning: Label not 47 is present in all training examples.\n",
      "  warnings.warn(\"Label %s is present in all training examples.\" %\n",
      "/Users/mac/Library/Python/3.8/lib/python/site-packages/sklearn/multiclass.py:74: UserWarning: Label not 196 is present in all training examples.\n",
      "  warnings.warn(\"Label %s is present in all training examples.\" %\n",
      "/Users/mac/Library/Python/3.8/lib/python/site-packages/sklearn/multiclass.py:74: UserWarning: Label not 198 is present in all training examples.\n",
      "  warnings.warn(\"Label %s is present in all training examples.\" %\n"
     ]
    }
   ],
   "source": [
    "# 3. fit\n",
    "# classfier\n",
    "clf = OneVsRestClassifier(RandomForestClassifier())\n",
    "# make scoring variable\n",
    "score_AUROC = metrics.make_scorer(roc_auc_score, average = 'micro')\n",
    "cv_dic = cross_validate(clf, drug1, interaction1, scoring = score_AUROC, cv=10)\n"
   ]
  },
  {
   "cell_type": "code",
   "execution_count": 8,
   "metadata": {},
   "outputs": [],
   "source": [
    "score_AUPR = metrics.make_scorer(average_precision_score, average = 'micro')\n",
    "cv_dic_2 = cross_validate(clf, drug1, interaction1, scoring = score_AUPR, cv=10)"
   ]
  },
  {
   "cell_type": "code",
   "execution_count": 6,
   "metadata": {},
   "outputs": [
    {
     "ename": "NameError",
     "evalue": "name 'cv_dic' is not defined",
     "output_type": "error",
     "traceback": [
      "\u001b[0;31m---------------------------------------------------------------------------\u001b[0m",
      "\u001b[0;31mNameError\u001b[0m                                 Traceback (most recent call last)",
      "\u001b[0;32m<ipython-input-6-f0c5061fde11>\u001b[0m in \u001b[0;36m<module>\u001b[0;34m\u001b[0m\n\u001b[1;32m      1\u001b[0m \u001b[0;31m#auroc\u001b[0m\u001b[0;34m\u001b[0m\u001b[0;34m\u001b[0m\u001b[0;34m\u001b[0m\u001b[0m\n\u001b[0;32m----> 2\u001b[0;31m \u001b[0mprint\u001b[0m\u001b[0;34m(\u001b[0m\u001b[0mnp\u001b[0m\u001b[0;34m.\u001b[0m\u001b[0mmean\u001b[0m\u001b[0;34m(\u001b[0m\u001b[0mcv_dic\u001b[0m\u001b[0;34m[\u001b[0m\u001b[0;34m'test_score'\u001b[0m\u001b[0;34m]\u001b[0m\u001b[0;34m)\u001b[0m\u001b[0;34m)\u001b[0m\u001b[0;34m\u001b[0m\u001b[0;34m\u001b[0m\u001b[0m\n\u001b[0m\u001b[1;32m      3\u001b[0m \u001b[0;31m#aupr\u001b[0m\u001b[0;34m\u001b[0m\u001b[0;34m\u001b[0m\u001b[0;34m\u001b[0m\u001b[0m\n\u001b[1;32m      4\u001b[0m \u001b[0mprint\u001b[0m\u001b[0;34m(\u001b[0m\u001b[0mnp\u001b[0m\u001b[0;34m.\u001b[0m\u001b[0mmean\u001b[0m\u001b[0;34m(\u001b[0m\u001b[0mcv_dic_2\u001b[0m\u001b[0;34m[\u001b[0m\u001b[0;34m'test_score'\u001b[0m\u001b[0;34m]\u001b[0m\u001b[0;34m)\u001b[0m\u001b[0;34m)\u001b[0m\u001b[0;34m\u001b[0m\u001b[0;34m\u001b[0m\u001b[0m\n",
      "\u001b[0;31mNameError\u001b[0m: name 'cv_dic' is not defined"
     ]
    }
   ],
   "source": [
    "#auroc\n",
    "print(np.mean(cv_dic['test_score']))\n",
    "#aupr\n",
    "print(np.mean(cv_dic_2['test_score']))"
   ]
  },
  {
   "cell_type": "code",
   "execution_count": 7,
   "metadata": {},
   "outputs": [
    {
     "data": {
      "text/plain": [
       "array([0.16265252, 0.12438312, 0.13494216, 0.16774961, 0.30142937,\n",
       "       0.21691766, 0.01494768, 0.00747384, 0.01195815, 0.04030892])"
      ]
     },
     "execution_count": 7,
     "metadata": {},
     "output_type": "execute_result"
    }
   ],
   "source": [
    "cv_dic2_aupr['test_score']"
   ]
  },
  {
   "cell_type": "code",
   "execution_count": 3,
   "metadata": {},
   "outputs": [
    {
     "name": "stdout",
     "output_type": "stream",
     "text": [
      "0.5692669965053087\n",
      "0.11827630315271997\n"
     ]
    }
   ],
   "source": [
    "## Gprotein \n",
    "drug2 = np.loadtxt('/Users/mac/OneDrive/thesis/script/dataset/DPI_Gprotein/dpig_X1.txt')\n",
    "interaction2 = np.loadtxt('/Users/mac/OneDrive/thesis/script/dataset/DPI_Gprotein/dpig_Y.txt')\n",
    "clf = OneVsRestClassifier(RandomForestClassifier())\n",
    "score_AUROC = metrics.make_scorer(roc_auc_score, average = 'micro')\n",
    "score_AUPR = metrics.make_scorer(average_precision_score, average = 'micro')\n",
    "cv_dic2_auroc = cross_validate(clf, drug2, interaction2, scoring = score_AUROC, cv=10)\n",
    "cv_dic2_aupr = cross_validate(clf, drug2, interaction2, scoring = score_AUPR, cv=10)\n",
    "#auroc\n",
    "print(np.mean(cv_dic2_auroc['test_score']))\n",
    "#aupr\n",
    "print(np.mean(cv_dic2_aupr['test_score']))"
   ]
  },
  {
   "cell_type": "code",
   "execution_count": 4,
   "metadata": {},
   "outputs": [
    {
     "name": "stdout",
     "output_type": "stream",
     "text": [
      "0.565403169586913\n",
      "0.1096111780167168\n"
     ]
    }
   ],
   "source": [
    "# ion \n",
    "drug3 = np.loadtxt('/Users/mac/OneDrive/thesis/script/dataset/DPI_ion/dpii_X1_drugfeature.txt')\n",
    "interaction3 = np.loadtxt('/Users/mac/OneDrive/thesis/script/dataset/DPI_ion/dpii_Y.txt')\n",
    "cv_dic3_auroc = cross_validate(clf, drug2, interaction2, scoring = score_AUROC, cv=10)\n",
    "cv_dic3_aupr = cross_validate(clf, drug2, interaction2, scoring = score_AUPR, cv=10)\n",
    "#auroc\n",
    "print(np.mean(cv_dic3_auroc['test_score']))\n",
    "#aupr\n",
    "print(np.mean(cv_dic3_aupr['test_score']))"
   ]
  },
  {
   "cell_type": "code",
   "execution_count": null,
   "metadata": {},
   "outputs": [],
   "source": []
  }
 ],
 "metadata": {
  "kernelspec": {
   "display_name": "Python 3.8.0 64-bit",
   "language": "python",
   "name": "python38064bitda74fdf623974235942dd8c620d67e3f"
  },
  "language_info": {
   "codemirror_mode": {
    "name": "ipython",
    "version": 3
   },
   "file_extension": ".py",
   "mimetype": "text/x-python",
   "name": "python",
   "nbconvert_exporter": "python",
   "pygments_lexer": "ipython3",
   "version": "3.8.0"
  }
 },
 "nbformat": 4,
 "nbformat_minor": 2
}
