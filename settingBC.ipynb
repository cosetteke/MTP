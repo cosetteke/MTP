{
 "cells": [
  {
   "cell_type": "code",
   "execution_count": 6,
   "metadata": {},
   "outputs": [],
   "source": [
    "# Load packages\n",
    "import numpy as np\n",
    "from sklearn.multiclass import OneVsRestClassifier\n",
    "from sklearn.svm import SVC\n",
    "from sklearn.ensemble import RandomForestClassifier\n",
    "from sklearn.metrics import roc_auc_score, average_precision_score, confusion_matrix\n",
    "import sklearn.metrics as metrics\n",
    "from sklearn.model_selection import KFold\n",
    "from sklearn.linear_model import LogisticRegression\n",
    "from sklearn.neural_network import MLPClassifier\n",
    "from sklearn.preprocessing import StandardScaler, MinMaxScaler"
   ]
  },
  {
   "cell_type": "code",
   "execution_count": 7,
   "metadata": {},
   "outputs": [],
   "source": [
    "# Load datasets\n",
    "dataname = 'dpie'\n",
    "\n",
    "# define method\n",
    "## 'random_forest', 'logistic_regression', 'mlp_per_target', 'mlp'\n",
    "method_name = 'mlp'\n",
    "\n",
    "# define scale\n",
    "## 'standard', 'minmax'\n",
    "scale_type = '111'"
   ]
  },
  {
   "cell_type": "code",
   "execution_count": 8,
   "metadata": {},
   "outputs": [],
   "source": [
    "def load_data(dataname):\n",
    "    if dataname in ['ERN', 'SRN']:\n",
    "        X1 = np.loadtxt('./dataset/'+str(dataname)+'/X1.txt',delimiter=\",\")\n",
    "        Y = np.loadtxt('./dataset/'+str(dataname)+'/Y.txt',delimiter=\",\")\n",
    "        X2 = np.loadtxt('./dataset/'+str(dataname)+'/X2.txt',delimiter=\",\")\n",
    "    else:\n",
    "        X1 = np.loadtxt('./dataset/'+str(dataname)+'/'+str(dataname)+'_X1.txt')\n",
    "        Y = np.loadtxt('./dataset/'+str(dataname)+'/'+str(dataname)+'_Y.txt')\n",
    "        X2 = np.loadtxt('./dataset/'+str(dataname)+'/'+str(dataname)+'_X2.txt')\n",
    "    return X1, X2, Y"
   ]
  },
  {
   "cell_type": "code",
   "execution_count": 9,
   "metadata": {},
   "outputs": [
    {
     "name": "stdout",
     "output_type": "stream",
     "text": [
      "[[1. 0. 0. ... 0. 0. 0.]\n",
      " [0. 0. 0. ... 0. 0. 0.]\n",
      " [0. 0. 0. ... 0. 0. 0.]\n",
      " ...\n",
      " [0. 0. 0. ... 0. 0. 0.]\n",
      " [0. 0. 0. ... 0. 0. 0.]\n",
      " [0. 0. 0. ... 0. 0. 0.]]\n"
     ]
    }
   ],
   "source": [
    "X1, X2, Y = load_data(dataname)\n",
    "print(Y)"
   ]
  },
  {
   "cell_type": "code",
   "execution_count": 11,
   "metadata": {},
   "outputs": [],
   "source": [
    "shuffled = [True, False]"
   ]
  },
  {
   "cell_type": "code",
   "execution_count": 12,
   "metadata": {},
   "outputs": [],
   "source": [
    "setting = 'B'\n",
    "if setting == 'C':\n",
    "    X1, Y = X2, np.transpose(Y)"
   ]
  },
  {
   "cell_type": "code",
   "execution_count": 13,
   "metadata": {
    "tags": []
   },
   "outputs": [
    {
     "name": "stdout",
     "output_type": "stream",
     "text": [
      "======================= Fold 0 =========================================\n"
     ]
    },
    {
     "name": "stderr",
     "output_type": "stream",
     "text": [
      "/opt/anaconda3/lib/python3.8/site-packages/sklearn/neural_network/_multilayer_perceptron.py:582: ConvergenceWarning: Stochastic Optimizer: Maximum iterations (300) reached and the optimization hasn't converged yet.\n",
      "  warnings.warn(\n"
     ]
    },
    {
     "name": "stdout",
     "output_type": "stream",
     "text": [
      "(21, 210)\n",
      "72 out of the 210 total labels has more than one classes present\n",
      "========================================================================\n",
      "\n",
      "======================= Fold 1 =========================================\n"
     ]
    },
    {
     "name": "stderr",
     "output_type": "stream",
     "text": [
      "/opt/anaconda3/lib/python3.8/site-packages/sklearn/neural_network/_multilayer_perceptron.py:582: ConvergenceWarning: Stochastic Optimizer: Maximum iterations (300) reached and the optimization hasn't converged yet.\n",
      "  warnings.warn(\n"
     ]
    },
    {
     "name": "stdout",
     "output_type": "stream",
     "text": [
      "(21, 210)\n",
      "82 out of the 210 total labels has more than one classes present\n",
      "========================================================================\n",
      "\n",
      "======================= Fold 2 =========================================\n"
     ]
    },
    {
     "name": "stderr",
     "output_type": "stream",
     "text": [
      "/opt/anaconda3/lib/python3.8/site-packages/sklearn/neural_network/_multilayer_perceptron.py:582: ConvergenceWarning: Stochastic Optimizer: Maximum iterations (300) reached and the optimization hasn't converged yet.\n",
      "  warnings.warn(\n"
     ]
    },
    {
     "name": "stdout",
     "output_type": "stream",
     "text": [
      "(21, 210)\n",
      "96 out of the 210 total labels has more than one classes present\n",
      "========================================================================\n",
      "\n",
      "======================= Fold 3 =========================================\n"
     ]
    },
    {
     "name": "stderr",
     "output_type": "stream",
     "text": [
      "/opt/anaconda3/lib/python3.8/site-packages/sklearn/neural_network/_multilayer_perceptron.py:582: ConvergenceWarning: Stochastic Optimizer: Maximum iterations (300) reached and the optimization hasn't converged yet.\n",
      "  warnings.warn(\n"
     ]
    },
    {
     "name": "stdout",
     "output_type": "stream",
     "text": [
      "(21, 210)\n",
      "42 out of the 210 total labels has more than one classes present\n",
      "========================================================================\n",
      "\n",
      "======================= Fold 4 =========================================\n"
     ]
    },
    {
     "name": "stderr",
     "output_type": "stream",
     "text": [
      "/opt/anaconda3/lib/python3.8/site-packages/sklearn/neural_network/_multilayer_perceptron.py:582: ConvergenceWarning: Stochastic Optimizer: Maximum iterations (300) reached and the optimization hasn't converged yet.\n",
      "  warnings.warn(\n"
     ]
    },
    {
     "name": "stdout",
     "output_type": "stream",
     "text": [
      "(20, 210)\n",
      "76 out of the 210 total labels has more than one classes present\n",
      "========================================================================\n",
      "\n",
      "======================= Fold 5 =========================================\n"
     ]
    },
    {
     "name": "stderr",
     "output_type": "stream",
     "text": [
      "/opt/anaconda3/lib/python3.8/site-packages/sklearn/neural_network/_multilayer_perceptron.py:582: ConvergenceWarning: Stochastic Optimizer: Maximum iterations (300) reached and the optimization hasn't converged yet.\n",
      "  warnings.warn(\n"
     ]
    },
    {
     "name": "stdout",
     "output_type": "stream",
     "text": [
      "(20, 210)\n",
      "88 out of the 210 total labels has more than one classes present\n",
      "========================================================================\n",
      "\n",
      "======================= Fold 6 =========================================\n"
     ]
    },
    {
     "name": "stderr",
     "output_type": "stream",
     "text": [
      "/opt/anaconda3/lib/python3.8/site-packages/sklearn/neural_network/_multilayer_perceptron.py:582: ConvergenceWarning: Stochastic Optimizer: Maximum iterations (300) reached and the optimization hasn't converged yet.\n",
      "  warnings.warn(\n"
     ]
    },
    {
     "name": "stdout",
     "output_type": "stream",
     "text": [
      "(20, 210)\n",
      "99 out of the 210 total labels has more than one classes present\n",
      "========================================================================\n",
      "\n",
      "======================= Fold 7 =========================================\n"
     ]
    },
    {
     "name": "stderr",
     "output_type": "stream",
     "text": [
      "/opt/anaconda3/lib/python3.8/site-packages/sklearn/neural_network/_multilayer_perceptron.py:582: ConvergenceWarning: Stochastic Optimizer: Maximum iterations (300) reached and the optimization hasn't converged yet.\n",
      "  warnings.warn(\n"
     ]
    },
    {
     "name": "stdout",
     "output_type": "stream",
     "text": [
      "(20, 210)\n",
      "89 out of the 210 total labels has more than one classes present\n",
      "========================================================================\n",
      "\n",
      "======================= Fold 8 =========================================\n"
     ]
    },
    {
     "name": "stderr",
     "output_type": "stream",
     "text": [
      "/opt/anaconda3/lib/python3.8/site-packages/sklearn/neural_network/_multilayer_perceptron.py:582: ConvergenceWarning: Stochastic Optimizer: Maximum iterations (300) reached and the optimization hasn't converged yet.\n",
      "  warnings.warn(\n"
     ]
    },
    {
     "name": "stdout",
     "output_type": "stream",
     "text": [
      "(20, 210)\n",
      "72 out of the 210 total labels has more than one classes present\n",
      "========================================================================\n",
      "\n",
      "======================= Fold 9 =========================================\n"
     ]
    },
    {
     "name": "stderr",
     "output_type": "stream",
     "text": [
      "/opt/anaconda3/lib/python3.8/site-packages/sklearn/neural_network/_multilayer_perceptron.py:582: ConvergenceWarning: Stochastic Optimizer: Maximum iterations (300) reached and the optimization hasn't converged yet.\n",
      "  warnings.warn(\n",
      "/opt/anaconda3/lib/python3.8/site-packages/sklearn/model_selection/_split.py:293: FutureWarning: Setting a random_state has no effect since shuffle is False. This will raise an error in 0.24. You should leave random_state to its default (None), or set shuffle=True.\n",
      "  warnings.warn(\n"
     ]
    },
    {
     "name": "stdout",
     "output_type": "stream",
     "text": [
      "(20, 210)\n",
      "53 out of the 210 total labels has more than one classes present\n",
      "========================================================================\n",
      "\n",
      "settingB dpii mlp shuffle = True\n",
      "auroc_micro: 0.9327 (0.0332)\n",
      "\n",
      "auroc_macro: 0.9151 (0.0433)\n",
      "\n",
      "aupr_micro: 0.8303 (0.0494)\n",
      "\n",
      "aupr_macro: 0.8308 (0.0614)\n",
      "\n",
      "======================= Fold 0 =========================================\n"
     ]
    },
    {
     "name": "stderr",
     "output_type": "stream",
     "text": [
      "/opt/anaconda3/lib/python3.8/site-packages/sklearn/neural_network/_multilayer_perceptron.py:582: ConvergenceWarning: Stochastic Optimizer: Maximum iterations (300) reached and the optimization hasn't converged yet.\n",
      "  warnings.warn(\n"
     ]
    },
    {
     "name": "stdout",
     "output_type": "stream",
     "text": [
      "(21, 210)\n",
      "52 out of the 210 total labels has more than one classes present\n",
      "========================================================================\n",
      "\n",
      "======================= Fold 1 =========================================\n"
     ]
    },
    {
     "name": "stderr",
     "output_type": "stream",
     "text": [
      "/opt/anaconda3/lib/python3.8/site-packages/sklearn/neural_network/_multilayer_perceptron.py:582: ConvergenceWarning: Stochastic Optimizer: Maximum iterations (300) reached and the optimization hasn't converged yet.\n",
      "  warnings.warn(\n"
     ]
    },
    {
     "name": "stdout",
     "output_type": "stream",
     "text": [
      "(21, 210)\n",
      "39 out of the 210 total labels has more than one classes present\n",
      "========================================================================\n",
      "\n",
      "======================= Fold 2 =========================================\n"
     ]
    },
    {
     "name": "stderr",
     "output_type": "stream",
     "text": [
      "/opt/anaconda3/lib/python3.8/site-packages/sklearn/neural_network/_multilayer_perceptron.py:582: ConvergenceWarning: Stochastic Optimizer: Maximum iterations (300) reached and the optimization hasn't converged yet.\n",
      "  warnings.warn(\n"
     ]
    },
    {
     "name": "stdout",
     "output_type": "stream",
     "text": [
      "(21, 210)\n",
      "36 out of the 210 total labels has more than one classes present\n",
      "========================================================================\n",
      "\n",
      "======================= Fold 3 =========================================\n"
     ]
    },
    {
     "name": "stderr",
     "output_type": "stream",
     "text": [
      "/opt/anaconda3/lib/python3.8/site-packages/sklearn/neural_network/_multilayer_perceptron.py:582: ConvergenceWarning: Stochastic Optimizer: Maximum iterations (300) reached and the optimization hasn't converged yet.\n",
      "  warnings.warn(\n"
     ]
    },
    {
     "name": "stdout",
     "output_type": "stream",
     "text": [
      "(21, 210)\n",
      "45 out of the 210 total labels has more than one classes present\n",
      "========================================================================\n",
      "\n",
      "======================= Fold 4 =========================================\n"
     ]
    },
    {
     "name": "stderr",
     "output_type": "stream",
     "text": [
      "/opt/anaconda3/lib/python3.8/site-packages/sklearn/neural_network/_multilayer_perceptron.py:582: ConvergenceWarning: Stochastic Optimizer: Maximum iterations (300) reached and the optimization hasn't converged yet.\n",
      "  warnings.warn(\n"
     ]
    },
    {
     "name": "stdout",
     "output_type": "stream",
     "text": [
      "(20, 210)\n",
      "32 out of the 210 total labels has more than one classes present\n",
      "========================================================================\n",
      "\n",
      "======================= Fold 5 =========================================\n"
     ]
    },
    {
     "name": "stderr",
     "output_type": "stream",
     "text": [
      "/opt/anaconda3/lib/python3.8/site-packages/sklearn/neural_network/_multilayer_perceptron.py:582: ConvergenceWarning: Stochastic Optimizer: Maximum iterations (300) reached and the optimization hasn't converged yet.\n",
      "  warnings.warn(\n"
     ]
    },
    {
     "name": "stdout",
     "output_type": "stream",
     "text": [
      "(20, 210)\n",
      "42 out of the 210 total labels has more than one classes present\n",
      "========================================================================\n",
      "\n",
      "======================= Fold 6 =========================================\n"
     ]
    },
    {
     "name": "stderr",
     "output_type": "stream",
     "text": [
      "/opt/anaconda3/lib/python3.8/site-packages/sklearn/neural_network/_multilayer_perceptron.py:582: ConvergenceWarning: Stochastic Optimizer: Maximum iterations (300) reached and the optimization hasn't converged yet.\n",
      "  warnings.warn(\n"
     ]
    },
    {
     "name": "stdout",
     "output_type": "stream",
     "text": [
      "(20, 210)\n",
      "50 out of the 210 total labels has more than one classes present\n",
      "========================================================================\n",
      "\n",
      "======================= Fold 7 =========================================\n"
     ]
    },
    {
     "name": "stderr",
     "output_type": "stream",
     "text": [
      "/opt/anaconda3/lib/python3.8/site-packages/sklearn/neural_network/_multilayer_perceptron.py:582: ConvergenceWarning: Stochastic Optimizer: Maximum iterations (300) reached and the optimization hasn't converged yet.\n",
      "  warnings.warn(\n"
     ]
    },
    {
     "name": "stdout",
     "output_type": "stream",
     "text": [
      "(20, 210)\n",
      "64 out of the 210 total labels has more than one classes present\n",
      "========================================================================\n",
      "\n",
      "======================= Fold 8 =========================================\n"
     ]
    },
    {
     "name": "stderr",
     "output_type": "stream",
     "text": [
      "/opt/anaconda3/lib/python3.8/site-packages/sklearn/neural_network/_multilayer_perceptron.py:582: ConvergenceWarning: Stochastic Optimizer: Maximum iterations (300) reached and the optimization hasn't converged yet.\n",
      "  warnings.warn(\n"
     ]
    },
    {
     "name": "stdout",
     "output_type": "stream",
     "text": [
      "(20, 210)\n",
      "35 out of the 210 total labels has more than one classes present\n",
      "========================================================================\n",
      "\n",
      "======================= Fold 9 =========================================\n",
      "(20, 210)\n",
      "65 out of the 210 total labels has more than one classes present\n",
      "========================================================================\n",
      "\n",
      "settingB dpii mlp shuffle = False\n",
      "auroc_micro: 0.7850 (0.1375)\n",
      "\n",
      "auroc_macro: 0.6989 (0.1682)\n",
      "\n",
      "aupr_micro: 0.5828 (0.1806)\n",
      "\n",
      "aupr_macro: 0.5870 (0.1837)\n",
      "\n"
     ]
    },
    {
     "name": "stderr",
     "output_type": "stream",
     "text": [
      "/opt/anaconda3/lib/python3.8/site-packages/sklearn/neural_network/_multilayer_perceptron.py:582: ConvergenceWarning: Stochastic Optimizer: Maximum iterations (300) reached and the optimization hasn't converged yet.\n",
      "  warnings.warn(\n"
     ]
    }
   ],
   "source": [
    "for item in shuffled:\n",
    "    \n",
    "    metrics_to_calculate = ['auroc', 'aupr']\n",
    "    metric_values_per_fold = {}\n",
    "    if 'auroc' in metrics_to_calculate:\n",
    "        metric_values_per_fold['auroc_micro'] = []\n",
    "        metric_values_per_fold['auroc_macro'] = []\n",
    "    if 'aupr' in metrics_to_calculate:\n",
    "        metric_values_per_fold['aupr_micro'] = []\n",
    "        metric_values_per_fold['aupr_macro'] = []\n",
    "\n",
    "    kf = KFold(n_splits=10, shuffle=item,random_state=42)\n",
    "    fold_counter = 0\n",
    "\n",
    "    for train_index, test_index in kf.split(X1):\n",
    "        print('======================= Fold '+str(fold_counter)+' =========================================')\n",
    "\n",
    "        # split the dataset\n",
    "        X_train, X_test = X1[train_index], X1[test_index]\n",
    "        y_train, y_test = Y[train_index], Y[test_index]\n",
    "        \n",
    "        # scaler\n",
    "        scaler = None\n",
    "        if scale_type == 'standard':\n",
    "            scaler = StandardScaler()\n",
    "        elif scale_type == 'minmax':\n",
    "            scaler = MinMaxScaler()\n",
    "        if scaler is not None:\n",
    "            scaler.fit(X_train)\n",
    "            X_train = scaler.transform(X_train)\n",
    "            X_test = scaler.transform(X_test)\n",
    "\n",
    "        clf = None\n",
    "        # define the oneVSrest classifier with the base classifier\n",
    "        if method_name == 'random_forest':\n",
    "            clf = OneVsRestClassifier(RandomForestClassifier())\n",
    "        elif method_name == 'logistic_regression':\n",
    "            clf = OneVsRestClassifier(LogisticRegression(random_state=0))\n",
    "        elif method_name == 'mlp_per_target':\n",
    "            clf = OneVsRestClassifier(MLPClassifier(random_state=1, hidden_layer_sizes=(256), solver='adam', learning_rate='adaptive', max_iter=300)) # binary relevance approach that uses a neural network as the base classifier (so it creates as many neural networks as there are labels)\n",
    "        elif method_name == 'mlp':\n",
    "            clf = MLPClassifier(random_state=1, hidden_layer_sizes=(512), solver='adam', learning_rate='adaptive', max_iter=300) # standard neural network\n",
    "        else:\n",
    "            raise ValueError(\"invalid method name given\")\n",
    "            \n",
    "        # fit the classifier on the training set\n",
    "        clf.fit(X_train, y_train)\n",
    "\n",
    "        # generate probability predictions for every sample in the test set\n",
    "        y_pred = clf.predict_proba(X_test)\n",
    "\n",
    "        print(str(y_pred.shape))\n",
    "\n",
    "        # calculate the performance metrics on the test set\n",
    "        if 'auroc' in metrics_to_calculate:\n",
    "            metric_values_per_fold['auroc_micro'].append(roc_auc_score(y_test, y_pred, average='micro'))\n",
    "\n",
    "            # This is not really important as we are only interested in the micro measures.\n",
    "            # Nevertheless, I basically do the macro averaging by hand so that I can skip labels that have only samples with one class\n",
    "            roc_auc_per_label = []\n",
    "            for label_idx in range(Y.shape[1]): # 0是行 1是列\n",
    "                if len(set(y_test[:, label_idx])) >= 2: # here test is validation\n",
    "                    roc_auc_per_label.append(roc_auc_score(y_test[:, label_idx], y_pred[:, label_idx]))\n",
    "            print(str(len(roc_auc_per_label))+' out of the '+str(y_test.shape[1])+' total labels has more than one classes present')\n",
    "\n",
    "            metric_values_per_fold['auroc_macro'].append(np.mean(roc_auc_per_label))\n",
    "\n",
    "\n",
    "        if 'aupr' in metrics_to_calculate:\n",
    "            metric_values_per_fold['aupr_micro'].append(average_precision_score(y_test, y_pred, average='micro'))\n",
    "\n",
    "            aupr_per_label = []\n",
    "            for label_idx in range(Y.shape[1]):\n",
    "                if len(set(y_test[:, label_idx])) >= 2:\n",
    "                    aupr_per_label.append(average_precision_score(y_test[:, label_idx], y_pred[:, label_idx]))\n",
    "\n",
    "            metric_values_per_fold['aupr_macro'].append(np.mean(aupr_per_label))\n",
    "\n",
    "\n",
    "        fold_counter += 1\n",
    "        print('========================================================================')\n",
    "        print('')\n",
    "        \n",
    "    # calculate the mean and std for every metric measured during training and validation\n",
    "    print('setting' + str(setting), str(dataname), str(method_name), 'shuffle = ' + str(item))\n",
    "    for metric_name in metric_values_per_fold.keys():\n",
    "        print(metric_name+': '+ str('%.4f' % np.mean(metric_values_per_fold[metric_name])) +' ('+ str('%.4f' % np.std(metric_values_per_fold[metric_name])) +')')\n",
    "        print('')"
   ]
  },
  {
   "cell_type": "code",
   "execution_count": null,
   "metadata": {},
   "outputs": [],
   "source": []
  }
 ],
 "metadata": {
  "kernelspec": {
   "display_name": "Python 3",
   "language": "python",
   "name": "python3"
  },
  "language_info": {
   "codemirror_mode": {
    "name": "ipython",
    "version": 3
   },
   "file_extension": ".py",
   "mimetype": "text/x-python",
   "name": "python",
   "nbconvert_exporter": "python",
   "pygments_lexer": "ipython3",
   "version": "3.8.5"
  }
 },
 "nbformat": 4,
 "nbformat_minor": 4
}